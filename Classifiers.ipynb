{
  "nbformat": 4,
  "nbformat_minor": 0,
  "metadata": {
    "colab": {
      "name": "Classifiers.ipynb",
      "provenance": [],
      "collapsed_sections": [
        "1InwRosqVE-H",
        "ow4t6_LQ_L_F"
      ],
      "authorship_tag": "ABX9TyPBLimK41V/ypecYzdGz6FG",
      "include_colab_link": true
    },
    "kernelspec": {
      "name": "python3",
      "display_name": "Python 3"
    },
    "language_info": {
      "name": "python"
    }
  },
  "cells": [
    {
      "cell_type": "markdown",
      "metadata": {
        "id": "view-in-github",
        "colab_type": "text"
      },
      "source": [
        "<a href=\"https://colab.research.google.com/github/mikypet/Pycollection/blob/master/Classifiers.ipynb\" target=\"_parent\"><img src=\"https://colab.research.google.com/assets/colab-badge.svg\" alt=\"Open In Colab\"/></a>"
      ]
    },
    {
      "cell_type": "markdown",
      "source": [
        "### MOUNT THE DATASOURCE AND INSTALL PYSPARK\n",
        "\n",
        "---\n",
        "\n"
      ],
      "metadata": {
        "id": "vodSRHaDZTzb"
      }
    },
    {
      "cell_type": "code",
      "execution_count": 1,
      "metadata": {
        "colab": {
          "base_uri": "https://localhost:8080/"
        },
        "id": "ovdNbjayZHdt",
        "outputId": "3b3ab058-17be-4ffd-c86e-962ee7b1a748"
      },
      "outputs": [
        {
          "output_type": "stream",
          "name": "stdout",
          "text": [
            "Mounted at /gdrive\n"
          ]
        }
      ],
      "source": [
        "from google.colab import drive\n",
        "drive.mount('/gdrive')"
      ]
    },
    {
      "cell_type": "code",
      "source": [
        "!pip install pyspark"
      ],
      "metadata": {
        "colab": {
          "base_uri": "https://localhost:8080/"
        },
        "id": "Vu9bfR__Zsmb",
        "outputId": "491dfba9-7d89-41e2-f051-6e782e6b8374"
      },
      "execution_count": 2,
      "outputs": [
        {
          "output_type": "stream",
          "name": "stdout",
          "text": [
            "Collecting pyspark\n",
            "  Downloading pyspark-3.2.0.tar.gz (281.3 MB)\n",
            "\u001b[K     |████████████████████████████████| 281.3 MB 38 kB/s \n",
            "\u001b[?25hCollecting py4j==0.10.9.2\n",
            "  Downloading py4j-0.10.9.2-py2.py3-none-any.whl (198 kB)\n",
            "\u001b[K     |████████████████████████████████| 198 kB 61.5 MB/s \n",
            "\u001b[?25hBuilding wheels for collected packages: pyspark\n",
            "  Building wheel for pyspark (setup.py) ... \u001b[?25l\u001b[?25hdone\n",
            "  Created wheel for pyspark: filename=pyspark-3.2.0-py2.py3-none-any.whl size=281805912 sha256=f9790456efe11cff5bcb37b7e3436f2676efbe2489bc2cbe3d7c9ebb9e1c135a\n",
            "  Stored in directory: /root/.cache/pip/wheels/0b/de/d2/9be5d59d7331c6c2a7c1b6d1a4f463ce107332b1ecd4e80718\n",
            "Successfully built pyspark\n",
            "Installing collected packages: py4j, pyspark\n",
            "Successfully installed py4j-0.10.9.2 pyspark-3.2.0\n"
          ]
        }
      ]
    },
    {
      "cell_type": "markdown",
      "source": [
        "Using UNSW-NB15 dataset for intrusion detection. The goal is to predict whether there could be an attack or not using the dataset."
      ],
      "metadata": {
        "id": "FqpySUqSkrCr"
      }
    },
    {
      "cell_type": "code",
      "source": [
        "from pyspark.sql import SparkSession\n",
        "from pyspark.sql.types import NullType\n",
        "from pyspark.sql.functions import when\n",
        "from pyspark.sql.functions import trim\n",
        "# INTRODUCING NUMPY AND PANDA TO ACHIEVE PRETTY OUTLOOK AND EXTENDED FUNCTIONALITIES\n",
        "# linear algebra AND data processing, CSV file I/O respectiveky\n",
        "import numpy as np \n",
        "import pandas as pd # "
      ],
      "metadata": {
        "id": "VEB61d5MZ6sC"
      },
      "execution_count": 3,
      "outputs": []
    },
    {
      "cell_type": "code",
      "source": [
        "spark = SparkSession.builder.appName(\"Classifiers\").getOrCreate()"
      ],
      "metadata": {
        "id": "Bi4gfcw3Z64y"
      },
      "execution_count": 4,
      "outputs": []
    },
    {
      "cell_type": "code",
      "source": [
        "data_features = spark.read.csv('/gdrive/My Drive/Dataset/UNSW-NB15_features.csv', header = True, inferSchema = True)\n",
        "data_features.printSchema()\n",
        "\n",
        "data_features.show(49,truncate = False)"
      ],
      "metadata": {
        "colab": {
          "base_uri": "https://localhost:8080/"
        },
        "id": "HRWtGnmXmMd_",
        "outputId": "4c0d7833-8c77-4bd1-f88b-9720e1158bfe"
      },
      "execution_count": 6,
      "outputs": [
        {
          "output_type": "stream",
          "name": "stdout",
          "text": [
            "root\n",
            " |-- No.: integer (nullable = true)\n",
            " |-- Name: string (nullable = true)\n",
            " |-- Type : string (nullable = true)\n",
            " |-- Description: string (nullable = true)\n",
            "\n",
            "+---+----------------+---------+------------------------------------------------------------------------------------------------------------------------------------------------------------------+\n",
            "|No.|Name            |Type     |Description                                                                                                                                                       |\n",
            "+---+----------------+---------+------------------------------------------------------------------------------------------------------------------------------------------------------------------+\n",
            "|1  |srcip           |nominal  |Source IP address                                                                                                                                                 |\n",
            "|2  |sport           |integer  |Source port number                                                                                                                                                |\n",
            "|3  |dstip           |nominal  |Destination IP address                                                                                                                                            |\n",
            "|4  |dsport          |integer  |Destination port number                                                                                                                                           |\n",
            "|5  |proto           |nominal  |Transaction protocol                                                                                                                                              |\n",
            "|6  |state           |nominal  |Indicates to the state and its dependent protocol, e.g. ACC, CLO, CON, ECO, ECR, FIN, INT, MAS, PAR, REQ, RST, TST, TXD, URH, URN, and (-) (if not used state)    |\n",
            "|7  |dur             |Float    |Record total duration                                                                                                                                             |\n",
            "|8  |sbytes          |Integer  |Source to destination transaction bytes                                                                                                                           |\n",
            "|9  |dbytes          |Integer  |Destination to source transaction bytes                                                                                                                           |\n",
            "|10 |sttl            |Integer  |Source to destination time to live value                                                                                                                          |\n",
            "|11 |dttl            |Integer  |Destination to source time to live value                                                                                                                          |\n",
            "|12 |sloss           |Integer  |Source packets retransmitted or dropped                                                                                                                           |\n",
            "|13 |dloss           |Integer  |Destination packets retransmitted or dropped                                                                                                                      |\n",
            "|14 |service         |nominal  |http, ftp, smtp, ssh, dns, ftp-data ,irc  and (-) if not much used service                                                                                        |\n",
            "|15 |Sload           |Float    |Source bits per second                                                                                                                                            |\n",
            "|16 |Dload           |Float    |Destination bits per second                                                                                                                                       |\n",
            "|17 |Spkts           |integer  |Source to destination packet count                                                                                                                                |\n",
            "|18 |Dpkts           |integer  |Destination to source packet count                                                                                                                                |\n",
            "|19 |swin            |integer  |Source TCP window advertisement value                                                                                                                             |\n",
            "|20 |dwin            |integer  |Destination TCP window advertisement value                                                                                                                        |\n",
            "|21 |stcpb           |integer  |Source TCP base sequence number                                                                                                                                   |\n",
            "|22 |dtcpb           |integer  |Destination TCP base sequence number                                                                                                                              |\n",
            "|23 |smeansz         |integer  |Mean of the ?ow packet size transmitted by the src                                                                                                                |\n",
            "|24 |dmeansz         |integer  |Mean of the ?ow packet size transmitted by the dst                                                                                                                |\n",
            "|25 |trans_depth     |integer  |Represents the pipelined depth into the connection of http request/response transaction                                                                           |\n",
            "|26 |res_bdy_len     |integer  |Actual uncompressed content size of the data transferred from the server�s http service.                                                                          |\n",
            "|27 |Sjit            |Float    |Source jitter (mSec)                                                                                                                                              |\n",
            "|28 |Djit            |Float    |Destination jitter (mSec)                                                                                                                                         |\n",
            "|29 |Stime           |Timestamp|record start time                                                                                                                                                 |\n",
            "|30 |Ltime           |Timestamp|record last time                                                                                                                                                  |\n",
            "|31 |Sintpkt         |Float    |Source interpacket arrival time (mSec)                                                                                                                            |\n",
            "|32 |Dintpkt         |Float    |Destination interpacket arrival time (mSec)                                                                                                                       |\n",
            "|33 |tcprtt          |Float    |TCP connection setup round-trip time, the sum of �synack� and �ackdat�.                                                                                           |\n",
            "|34 |synack          |Float    |TCP connection setup time, the time between the SYN and the SYN_ACK packets.                                                                                      |\n",
            "|35 |ackdat          |Float    |TCP connection setup time, the time between the SYN_ACK and the ACK packets.                                                                                      |\n",
            "|36 |is_sm_ips_ports |Binary   |If source (1) and destination (3)IP addresses equal and port numbers (2)(4)  equal then, this variable takes value 1 else 0                                       |\n",
            "|37 |ct_state_ttl    |Integer  |No. for each state (6) according to specific range of values for source/destination time to live (10) (11).                                                       |\n",
            "|38 |ct_flw_http_mthd|Integer  |No. of flows that has methods such as Get and Post in http service.                                                                                               |\n",
            "|39 |is_ftp_login    |Binary   |If the ftp session is accessed by user and password then 1 else 0.                                                                                                |\n",
            "|40 |ct_ftp_cmd      |integer  |No of flows that has a command in ftp session.                                                                                                                    |\n",
            "|41 |ct_srv_src      |integer  |No. of connections that contain the same service (14) and source address (1) in 100 connections according to the last time (26).                                  |\n",
            "|42 |ct_srv_dst      |integer  |No. of connections that contain the same service (14) and destination address (3) in 100 connections according to the last time (26).                             |\n",
            "|43 |ct_dst_ltm      |integer  |No. of connections of the same destination address (3) in 100 connections according to the last time (26).                                                        |\n",
            "|44 |ct_src_ ltm     |integer  |No. of connections of the same source address (1) in 100 connections according to the last time (26).                                                             |\n",
            "|45 |ct_src_dport_ltm|integer  |No of connections of the same source address (1) and the destination port (4) in 100 connections according to the last time (26).                                 |\n",
            "|46 |ct_dst_sport_ltm|integer  |No of connections of the same destination address (3) and the source port (2) in 100 connections according to the last time (26).                                 |\n",
            "|47 |ct_dst_src_ltm  |integer  |No of connections of the same source (1) and the destination (3) address in in 100 connections according to the last time (26).                                   |\n",
            "|48 |attack_cat      |nominal  |The name of each attack category. In this data set , nine categories e.g. Fuzzers, Analysis, Backdoors, DoS Exploits, Generic, Reconnaissance, Shellcode and Worms|\n",
            "|49 |Label           |binary   |0 for normal and 1 for attack records                                                                                                                             |\n",
            "+---+----------------+---------+------------------------------------------------------------------------------------------------------------------------------------------------------------------+\n",
            "\n"
          ]
        }
      ]
    },
    {
      "cell_type": "code",
      "source": [
        "data_events = spark.read.csv('/gdrive/My Drive/Dataset/UNSW-NB15_LIST_EVENTS.csv', header = True, inferSchema = True)\n",
        "data_events.printSchema()"
      ],
      "metadata": {
        "colab": {
          "base_uri": "https://localhost:8080/"
        },
        "id": "VZpK6wGwnB3g",
        "outputId": "3ba7b0f7-3a01-453b-d56d-cc28f208c9ee"
      },
      "execution_count": 7,
      "outputs": [
        {
          "output_type": "stream",
          "name": "stdout",
          "text": [
            "root\n",
            " |-- Attack category: string (nullable = true)\n",
            " |-- Attack subcategory: string (nullable = true)\n",
            " |-- Number of events: integer (nullable = true)\n",
            "\n"
          ]
        }
      ]
    },
    {
      "cell_type": "code",
      "source": [
        "# mapping the data to the features from the features dataset\n",
        "data_pyspark = spark.read.csv('/gdrive/My Drive/Dataset/UNSW-NB15.csv', header = True, inferSchema = True).toDF(\n",
        "    'srcip','sport','dstip','dsport','proto','state','dur','sbytes','dbytes','sttl','dttl','sloss','dloss',\n",
        "    'service','Sload','dload','Spkts','Dpkts','swin','dwin','stcpb','dtcpb','smeansz','dmeansz','trans_depth','res_bdy_len',\n",
        "    'Sjit','Djit','Stime','Ltime',    'Sintpkt','Dintpkt','tcprtt','synack','ackdat','is_sm_ips_ports','ct_state_ttl',\n",
        "    'ct_flw_http_mthd','is_ftp_login','ct_ftp_cmd','ct_srv_src','ct_srv_dst','ct_dst_ltm',\n",
        "    'ct_src_ltm','ct_src_dport_ltm','ct_dst_sport_ltm','ct_dst_src_ltm','attack_cat','Label')"
      ],
      "metadata": {
        "id": "HdtIh8QTnU2_"
      },
      "execution_count": 8,
      "outputs": []
    },
    {
      "cell_type": "markdown",
      "source": [
        "### UNDERSTANDING THE DATASET"
      ],
      "metadata": {
        "id": "O1zBZarfu6bS"
      }
    },
    {
      "cell_type": "code",
      "source": [
        "data_pyspark.printSchema()"
      ],
      "metadata": {
        "id": "g8q4Z-nGslPk"
      },
      "execution_count": null,
      "outputs": []
    },
    {
      "cell_type": "markdown",
      "source": [
        "Analysis of the schema show we have int, long, double and string datatypes represented in the dataset. Therefore we will get the numeric datatypes for dataset description."
      ],
      "metadata": {
        "id": "2LchLFR0tL4M"
      }
    },
    {
      "cell_type": "code",
      "source": [
        "data_pyspark = data_pyspark.drop('srcip','dstip','sport','dsport','proto')\n",
        "numeric_features = [t[0] for t in data_pyspark.dtypes if t[1] == 'int' or t[1] == 'long'or t[1] == 'double']\n",
        "data_pyspark.select(numeric_features).describe().toPandas().transpose()"
      ],
      "metadata": {
        "colab": {
          "base_uri": "https://localhost:8080/",
          "height": 1000
        },
        "id": "V5Ve_-m6s1ps",
        "outputId": "71ebb4d5-53f5-43ed-f8a0-208031cd8dc8"
      },
      "execution_count": 8,
      "outputs": [
        {
          "output_type": "execute_result",
          "data": {
            "text/html": [
              "\n",
              "  <div id=\"df-fa8b7455-4185-4f62-8a8d-9b035a566cce\">\n",
              "    <div class=\"colab-df-container\">\n",
              "      <div>\n",
              "<style scoped>\n",
              "    .dataframe tbody tr th:only-of-type {\n",
              "        vertical-align: middle;\n",
              "    }\n",
              "\n",
              "    .dataframe tbody tr th {\n",
              "        vertical-align: top;\n",
              "    }\n",
              "\n",
              "    .dataframe thead th {\n",
              "        text-align: right;\n",
              "    }\n",
              "</style>\n",
              "<table border=\"1\" class=\"dataframe\">\n",
              "  <thead>\n",
              "    <tr style=\"text-align: right;\">\n",
              "      <th></th>\n",
              "      <th>0</th>\n",
              "      <th>1</th>\n",
              "      <th>2</th>\n",
              "      <th>3</th>\n",
              "      <th>4</th>\n",
              "    </tr>\n",
              "  </thead>\n",
              "  <tbody>\n",
              "    <tr>\n",
              "      <th>summary</th>\n",
              "      <td>count</td>\n",
              "      <td>mean</td>\n",
              "      <td>stddev</td>\n",
              "      <td>min</td>\n",
              "      <td>max</td>\n",
              "    </tr>\n",
              "    <tr>\n",
              "      <th>dur</th>\n",
              "      <td>2539738</td>\n",
              "      <td>0.6588633347840528</td>\n",
              "      <td>13.92577037447336</td>\n",
              "      <td>0.0</td>\n",
              "      <td>8786.6377</td>\n",
              "    </tr>\n",
              "    <tr>\n",
              "      <th>sbytes</th>\n",
              "      <td>2539738</td>\n",
              "      <td>4340.070896289302</td>\n",
              "      <td>56409.409186153316</td>\n",
              "      <td>0</td>\n",
              "      <td>14355774</td>\n",
              "    </tr>\n",
              "    <tr>\n",
              "      <th>dbytes</th>\n",
              "      <td>2539738</td>\n",
              "      <td>36432.01927679154</td>\n",
              "      <td>161105.33522674238</td>\n",
              "      <td>0</td>\n",
              "      <td>14657531</td>\n",
              "    </tr>\n",
              "    <tr>\n",
              "      <th>sttl</th>\n",
              "      <td>2539738</td>\n",
              "      <td>62.78151053376372</td>\n",
              "      <td>74.6267115956767</td>\n",
              "      <td>0</td>\n",
              "      <td>255</td>\n",
              "    </tr>\n",
              "    <tr>\n",
              "      <th>dttl</th>\n",
              "      <td>2539738</td>\n",
              "      <td>30.770441675479912</td>\n",
              "      <td>42.851930611408726</td>\n",
              "      <td>0</td>\n",
              "      <td>254</td>\n",
              "    </tr>\n",
              "    <tr>\n",
              "      <th>sloss</th>\n",
              "      <td>2539738</td>\n",
              "      <td>5.164537444413558</td>\n",
              "      <td>22.5183674285243</td>\n",
              "      <td>0</td>\n",
              "      <td>5319</td>\n",
              "    </tr>\n",
              "    <tr>\n",
              "      <th>dloss</th>\n",
              "      <td>2539738</td>\n",
              "      <td>16.331417650167065</td>\n",
              "      <td>56.597900641709714</td>\n",
              "      <td>0</td>\n",
              "      <td>5507</td>\n",
              "    </tr>\n",
              "    <tr>\n",
              "      <th>Sload</th>\n",
              "      <td>2539738</td>\n",
              "      <td>3.6949293912529E7</td>\n",
              "      <td>1.1860415895657778E8</td>\n",
              "      <td>0.0</td>\n",
              "      <td>5.9880003E9</td>\n",
              "    </tr>\n",
              "    <tr>\n",
              "      <th>dload</th>\n",
              "      <td>2539738</td>\n",
              "      <td>2451159.3445124477</td>\n",
              "      <td>4225033.483855149</td>\n",
              "      <td>0.0</td>\n",
              "      <td>1.287619E8</td>\n",
              "    </tr>\n",
              "    <tr>\n",
              "      <th>Spkts</th>\n",
              "      <td>2539738</td>\n",
              "      <td>33.29253293056213</td>\n",
              "      <td>76.28775056857421</td>\n",
              "      <td>0</td>\n",
              "      <td>10646</td>\n",
              "    </tr>\n",
              "    <tr>\n",
              "      <th>Dpkts</th>\n",
              "      <td>2539738</td>\n",
              "      <td>42.73178886956056</td>\n",
              "      <td>121.50843273453061</td>\n",
              "      <td>0</td>\n",
              "      <td>11018</td>\n",
              "    </tr>\n",
              "    <tr>\n",
              "      <th>swin</th>\n",
              "      <td>2539738</td>\n",
              "      <td>150.1069094528648</td>\n",
              "      <td>125.47913866279724</td>\n",
              "      <td>0</td>\n",
              "      <td>255</td>\n",
              "    </tr>\n",
              "    <tr>\n",
              "      <th>dwin</th>\n",
              "      <td>2539738</td>\n",
              "      <td>149.76400203485557</td>\n",
              "      <td>125.5406292743381</td>\n",
              "      <td>0</td>\n",
              "      <td>255</td>\n",
              "    </tr>\n",
              "    <tr>\n",
              "      <th>smeansz</th>\n",
              "      <td>2539738</td>\n",
              "      <td>124.25272961226709</td>\n",
              "      <td>151.92111292712218</td>\n",
              "      <td>0</td>\n",
              "      <td>1504</td>\n",
              "    </tr>\n",
              "    <tr>\n",
              "      <th>dmeansz</th>\n",
              "      <td>2539738</td>\n",
              "      <td>276.7054900938601</td>\n",
              "      <td>335.6232182905606</td>\n",
              "      <td>0</td>\n",
              "      <td>1500</td>\n",
              "    </tr>\n",
              "    <tr>\n",
              "      <th>trans_depth</th>\n",
              "      <td>2539738</td>\n",
              "      <td>0.08326331298740264</td>\n",
              "      <td>0.3500246217579828</td>\n",
              "      <td>0</td>\n",
              "      <td>172</td>\n",
              "    </tr>\n",
              "    <tr>\n",
              "      <th>res_bdy_len</th>\n",
              "      <td>2539738</td>\n",
              "      <td>4242.633935075193</td>\n",
              "      <td>47503.3924305972</td>\n",
              "      <td>0</td>\n",
              "      <td>6558056</td>\n",
              "    </tr>\n",
              "    <tr>\n",
              "      <th>Sjit</th>\n",
              "      <td>2539738</td>\n",
              "      <td>1589.1548154094164</td>\n",
              "      <td>16911.380951432933</td>\n",
              "      <td>0.0</td>\n",
              "      <td>1483830.9</td>\n",
              "    </tr>\n",
              "    <tr>\n",
              "      <th>Djit</th>\n",
              "      <td>2539738</td>\n",
              "      <td>730.1641031682187</td>\n",
              "      <td>3438.7581441418583</td>\n",
              "      <td>0.0</td>\n",
              "      <td>781221.13</td>\n",
              "    </tr>\n",
              "    <tr>\n",
              "      <th>Stime</th>\n",
              "      <td>2539738</td>\n",
              "      <td>1.4232606954182885E9</td>\n",
              "      <td>1134456.398271584</td>\n",
              "      <td>1421927377</td>\n",
              "      <td>1424262068</td>\n",
              "    </tr>\n",
              "    <tr>\n",
              "      <th>Ltime</th>\n",
              "      <td>2539738</td>\n",
              "      <td>1.4232606961823573E9</td>\n",
              "      <td>1134456.1994365489</td>\n",
              "      <td>1421927414</td>\n",
              "      <td>1424262069</td>\n",
              "    </tr>\n",
              "    <tr>\n",
              "      <th>Sintpkt</th>\n",
              "      <td>2539738</td>\n",
              "      <td>193.04662381792062</td>\n",
              "      <td>2778.5835479995962</td>\n",
              "      <td>0.0</td>\n",
              "      <td>84371.492</td>\n",
              "    </tr>\n",
              "    <tr>\n",
              "      <th>Dintpkt</th>\n",
              "      <td>2539738</td>\n",
              "      <td>78.8343520173902</td>\n",
              "      <td>1433.2783530031716</td>\n",
              "      <td>0.0</td>\n",
              "      <td>59485.32</td>\n",
              "    </tr>\n",
              "    <tr>\n",
              "      <th>tcprtt</th>\n",
              "      <td>2539738</td>\n",
              "      <td>0.006181226453849733</td>\n",
              "      <td>0.046161391807482015</td>\n",
              "      <td>0.0</td>\n",
              "      <td>10.037506</td>\n",
              "    </tr>\n",
              "    <tr>\n",
              "      <th>synack</th>\n",
              "      <td>2539738</td>\n",
              "      <td>0.0032879949685179124</td>\n",
              "      <td>0.0259372504852963</td>\n",
              "      <td>0.0</td>\n",
              "      <td>4.5252719</td>\n",
              "    </tr>\n",
              "    <tr>\n",
              "      <th>ackdat</th>\n",
              "      <td>2539738</td>\n",
              "      <td>0.0028932314842221017</td>\n",
              "      <td>0.023948113850411634</td>\n",
              "      <td>0.0</td>\n",
              "      <td>5.5122342</td>\n",
              "    </tr>\n",
              "    <tr>\n",
              "      <th>is_sm_ips_ports</th>\n",
              "      <td>2539738</td>\n",
              "      <td>0.0016517451800146315</td>\n",
              "      <td>0.040608097310282906</td>\n",
              "      <td>0</td>\n",
              "      <td>1</td>\n",
              "    </tr>\n",
              "    <tr>\n",
              "      <th>ct_state_ttl</th>\n",
              "      <td>2539738</td>\n",
              "      <td>0.2611848151265997</td>\n",
              "      <td>0.6831311472052901</td>\n",
              "      <td>0</td>\n",
              "      <td>6</td>\n",
              "    </tr>\n",
              "    <tr>\n",
              "      <th>ct_flw_http_mthd</th>\n",
              "      <td>2539738</td>\n",
              "      <td>0.11009127713173564</td>\n",
              "      <td>0.5564519857631656</td>\n",
              "      <td>0</td>\n",
              "      <td>36</td>\n",
              "    </tr>\n",
              "    <tr>\n",
              "      <th>is_ftp_login</th>\n",
              "      <td>2539738</td>\n",
              "      <td>0.01735336479589627</td>\n",
              "      <td>0.1334651300073534</td>\n",
              "      <td>0</td>\n",
              "      <td>4</td>\n",
              "    </tr>\n",
              "    <tr>\n",
              "      <th>ct_ftp_cmd</th>\n",
              "      <td>2539738</td>\n",
              "      <td>0.02056038851251586</td>\n",
              "      <td>0.18437307896272334</td>\n",
              "      <td>0</td>\n",
              "      <td>8</td>\n",
              "    </tr>\n",
              "    <tr>\n",
              "      <th>ct_srv_src</th>\n",
              "      <td>2539738</td>\n",
              "      <td>9.207914753411572</td>\n",
              "      <td>10.837082138457902</td>\n",
              "      <td>1</td>\n",
              "      <td>67</td>\n",
              "    </tr>\n",
              "    <tr>\n",
              "      <th>ct_srv_dst</th>\n",
              "      <td>2539738</td>\n",
              "      <td>8.989883602166838</td>\n",
              "      <td>10.8228155248316</td>\n",
              "      <td>1</td>\n",
              "      <td>67</td>\n",
              "    </tr>\n",
              "    <tr>\n",
              "      <th>ct_dst_ltm</th>\n",
              "      <td>2539738</td>\n",
              "      <td>6.439729216163242</td>\n",
              "      <td>8.162330818423717</td>\n",
              "      <td>1</td>\n",
              "      <td>67</td>\n",
              "    </tr>\n",
              "    <tr>\n",
              "      <th>ct_src_ltm</th>\n",
              "      <td>2539738</td>\n",
              "      <td>6.9016414291552906</td>\n",
              "      <td>8.205341588998511</td>\n",
              "      <td>1</td>\n",
              "      <td>67</td>\n",
              "    </tr>\n",
              "    <tr>\n",
              "      <th>ct_src_dport_ltm</th>\n",
              "      <td>2539738</td>\n",
              "      <td>4.64257336780408</td>\n",
              "      <td>8.478002484253906</td>\n",
              "      <td>1</td>\n",
              "      <td>67</td>\n",
              "    </tr>\n",
              "    <tr>\n",
              "      <th>ct_dst_sport_ltm</th>\n",
              "      <td>2539738</td>\n",
              "      <td>3.5930328246456917</td>\n",
              "      <td>6.174758638136071</td>\n",
              "      <td>1</td>\n",
              "      <td>60</td>\n",
              "    </tr>\n",
              "    <tr>\n",
              "      <th>ct_dst_src_ltm</th>\n",
              "      <td>2539738</td>\n",
              "      <td>6.84655976325117</td>\n",
              "      <td>11.258799405143707</td>\n",
              "      <td>1</td>\n",
              "      <td>67</td>\n",
              "    </tr>\n",
              "    <tr>\n",
              "      <th>Label</th>\n",
              "      <td>2539738</td>\n",
              "      <td>0.12650241875343046</td>\n",
              "      <td>0.33241480158264386</td>\n",
              "      <td>0</td>\n",
              "      <td>1</td>\n",
              "    </tr>\n",
              "  </tbody>\n",
              "</table>\n",
              "</div>\n",
              "      <button class=\"colab-df-convert\" onclick=\"convertToInteractive('df-fa8b7455-4185-4f62-8a8d-9b035a566cce')\"\n",
              "              title=\"Convert this dataframe to an interactive table.\"\n",
              "              style=\"display:none;\">\n",
              "        \n",
              "  <svg xmlns=\"http://www.w3.org/2000/svg\" height=\"24px\"viewBox=\"0 0 24 24\"\n",
              "       width=\"24px\">\n",
              "    <path d=\"M0 0h24v24H0V0z\" fill=\"none\"/>\n",
              "    <path d=\"M18.56 5.44l.94 2.06.94-2.06 2.06-.94-2.06-.94-.94-2.06-.94 2.06-2.06.94zm-11 1L8.5 8.5l.94-2.06 2.06-.94-2.06-.94L8.5 2.5l-.94 2.06-2.06.94zm10 10l.94 2.06.94-2.06 2.06-.94-2.06-.94-.94-2.06-.94 2.06-2.06.94z\"/><path d=\"M17.41 7.96l-1.37-1.37c-.4-.4-.92-.59-1.43-.59-.52 0-1.04.2-1.43.59L10.3 9.45l-7.72 7.72c-.78.78-.78 2.05 0 2.83L4 21.41c.39.39.9.59 1.41.59.51 0 1.02-.2 1.41-.59l7.78-7.78 2.81-2.81c.8-.78.8-2.07 0-2.86zM5.41 20L4 18.59l7.72-7.72 1.47 1.35L5.41 20z\"/>\n",
              "  </svg>\n",
              "      </button>\n",
              "      \n",
              "  <style>\n",
              "    .colab-df-container {\n",
              "      display:flex;\n",
              "      flex-wrap:wrap;\n",
              "      gap: 12px;\n",
              "    }\n",
              "\n",
              "    .colab-df-convert {\n",
              "      background-color: #E8F0FE;\n",
              "      border: none;\n",
              "      border-radius: 50%;\n",
              "      cursor: pointer;\n",
              "      display: none;\n",
              "      fill: #1967D2;\n",
              "      height: 32px;\n",
              "      padding: 0 0 0 0;\n",
              "      width: 32px;\n",
              "    }\n",
              "\n",
              "    .colab-df-convert:hover {\n",
              "      background-color: #E2EBFA;\n",
              "      box-shadow: 0px 1px 2px rgba(60, 64, 67, 0.3), 0px 1px 3px 1px rgba(60, 64, 67, 0.15);\n",
              "      fill: #174EA6;\n",
              "    }\n",
              "\n",
              "    [theme=dark] .colab-df-convert {\n",
              "      background-color: #3B4455;\n",
              "      fill: #D2E3FC;\n",
              "    }\n",
              "\n",
              "    [theme=dark] .colab-df-convert:hover {\n",
              "      background-color: #434B5C;\n",
              "      box-shadow: 0px 1px 3px 1px rgba(0, 0, 0, 0.15);\n",
              "      filter: drop-shadow(0px 1px 2px rgba(0, 0, 0, 0.3));\n",
              "      fill: #FFFFFF;\n",
              "    }\n",
              "  </style>\n",
              "\n",
              "      <script>\n",
              "        const buttonEl =\n",
              "          document.querySelector('#df-fa8b7455-4185-4f62-8a8d-9b035a566cce button.colab-df-convert');\n",
              "        buttonEl.style.display =\n",
              "          google.colab.kernel.accessAllowed ? 'block' : 'none';\n",
              "\n",
              "        async function convertToInteractive(key) {\n",
              "          const element = document.querySelector('#df-fa8b7455-4185-4f62-8a8d-9b035a566cce');\n",
              "          const dataTable =\n",
              "            await google.colab.kernel.invokeFunction('convertToInteractive',\n",
              "                                                     [key], {});\n",
              "          if (!dataTable) return;\n",
              "\n",
              "          const docLinkHtml = 'Like what you see? Visit the ' +\n",
              "            '<a target=\"_blank\" href=https://colab.research.google.com/notebooks/data_table.ipynb>data table notebook</a>'\n",
              "            + ' to learn more about interactive tables.';\n",
              "          element.innerHTML = '';\n",
              "          dataTable['output_type'] = 'display_data';\n",
              "          await google.colab.output.renderOutput(dataTable, element);\n",
              "          const docLink = document.createElement('div');\n",
              "          docLink.innerHTML = docLinkHtml;\n",
              "          element.appendChild(docLink);\n",
              "        }\n",
              "      </script>\n",
              "    </div>\n",
              "  </div>\n",
              "  "
            ],
            "text/plain": [
              "                        0                      1  ...           3            4\n",
              "summary             count                   mean  ...         min          max\n",
              "dur               2539738     0.6588633347840528  ...         0.0    8786.6377\n",
              "sbytes            2539738      4340.070896289302  ...           0     14355774\n",
              "dbytes            2539738      36432.01927679154  ...           0     14657531\n",
              "sttl              2539738      62.78151053376372  ...           0          255\n",
              "dttl              2539738     30.770441675479912  ...           0          254\n",
              "sloss             2539738      5.164537444413558  ...           0         5319\n",
              "dloss             2539738     16.331417650167065  ...           0         5507\n",
              "Sload             2539738      3.6949293912529E7  ...         0.0  5.9880003E9\n",
              "dload             2539738     2451159.3445124477  ...         0.0   1.287619E8\n",
              "Spkts             2539738      33.29253293056213  ...           0        10646\n",
              "Dpkts             2539738      42.73178886956056  ...           0        11018\n",
              "swin              2539738      150.1069094528648  ...           0          255\n",
              "dwin              2539738     149.76400203485557  ...           0          255\n",
              "smeansz           2539738     124.25272961226709  ...           0         1504\n",
              "dmeansz           2539738      276.7054900938601  ...           0         1500\n",
              "trans_depth       2539738    0.08326331298740264  ...           0          172\n",
              "res_bdy_len       2539738      4242.633935075193  ...           0      6558056\n",
              "Sjit              2539738     1589.1548154094164  ...         0.0    1483830.9\n",
              "Djit              2539738      730.1641031682187  ...         0.0    781221.13\n",
              "Stime             2539738   1.4232606954182885E9  ...  1421927377   1424262068\n",
              "Ltime             2539738   1.4232606961823573E9  ...  1421927414   1424262069\n",
              "Sintpkt           2539738     193.04662381792062  ...         0.0    84371.492\n",
              "Dintpkt           2539738       78.8343520173902  ...         0.0     59485.32\n",
              "tcprtt            2539738   0.006181226453849733  ...         0.0    10.037506\n",
              "synack            2539738  0.0032879949685179124  ...         0.0    4.5252719\n",
              "ackdat            2539738  0.0028932314842221017  ...         0.0    5.5122342\n",
              "is_sm_ips_ports   2539738  0.0016517451800146315  ...           0            1\n",
              "ct_state_ttl      2539738     0.2611848151265997  ...           0            6\n",
              "ct_flw_http_mthd  2539738    0.11009127713173564  ...           0           36\n",
              "is_ftp_login      2539738    0.01735336479589627  ...           0            4\n",
              "ct_ftp_cmd        2539738    0.02056038851251586  ...           0            8\n",
              "ct_srv_src        2539738      9.207914753411572  ...           1           67\n",
              "ct_srv_dst        2539738      8.989883602166838  ...           1           67\n",
              "ct_dst_ltm        2539738      6.439729216163242  ...           1           67\n",
              "ct_src_ltm        2539738     6.9016414291552906  ...           1           67\n",
              "ct_src_dport_ltm  2539738       4.64257336780408  ...           1           67\n",
              "ct_dst_sport_ltm  2539738     3.5930328246456917  ...           1           60\n",
              "ct_dst_src_ltm    2539738       6.84655976325117  ...           1           67\n",
              "Label             2539738    0.12650241875343046  ...           0            1\n",
              "\n",
              "[40 rows x 5 columns]"
            ]
          },
          "metadata": {},
          "execution_count": 8
        }
      ]
    },
    {
      "cell_type": "code",
      "source": [
        "print(numeric_features)"
      ],
      "metadata": {
        "colab": {
          "base_uri": "https://localhost:8080/"
        },
        "id": "5DE-FkMlTnR7",
        "outputId": "077d3b56-2718-4fcb-aeb0-ee396c3242af"
      },
      "execution_count": null,
      "outputs": [
        {
          "output_type": "stream",
          "name": "stdout",
          "text": [
            "['sport', 'dsport', 'dur', 'sbytes', 'dbytes', 'sttl', 'dttl', 'sloss', 'dloss', 'Sload', 'dload', 'Spkts', 'Dpkts', 'swin', 'dwin', 'smeansz', 'dmeansz', 'trans_depth', 'res_bdy_len', 'Sjit', 'Djit', 'Stime', 'Ltime', 'Sintpkt', 'Dintpkt', 'tcprtt', 'synack', 'ackdat', 'is_sm_ips_ports', 'ct_state_ttl', 'ct_flw_http_mthd', 'is_ftp_login', 'ct_ftp_cmd', 'ct_srv_src', 'ct_srv_dst', 'ct_dst_ltm', 'ct_src_ltm', 'ct_src_dport_ltm', 'ct_dst_sport_ltm', 'ct_dst_src_ltm', 'Label']\n"
          ]
        }
      ]
    },
    {
      "cell_type": "markdown",
      "source": [
        "The Schema of the dataset, attack_cat and Label can be infered as the output variable while the rest of the features can be categories as input variable.\n",
        "**Input Vaiables:** attack_cat,Label"
      ],
      "metadata": {
        "id": "K1-d1jtBoOAP"
      }
    },
    {
      "cell_type": "markdown",
      "source": [
        "selecting the first five records for study"
      ],
      "metadata": {
        "id": "bsjIO5sSo8Fm"
      }
    },
    {
      "cell_type": "code",
      "source": [
        "#import pandas as pd\n",
        "#pd.DataFrame(data_pyspark.take(5), columns=data_pyspark.columns).transpose()\n",
        "data_pyspark.show(2)\n",
        "data_pyspark.filter(data_pyspark.service == '-').show(2)\n",
        "data_pyspark.filter(data_pyspark.attack_cat.isNull()).show(2)"
      ],
      "metadata": {
        "colab": {
          "base_uri": "https://localhost:8080/"
        },
        "id": "Oip5gIAsnr-e",
        "outputId": "55b7c13e-1332-4569-85d7-cd884ff7f49e"
      },
      "execution_count": 10,
      "outputs": [
        {
          "output_type": "stream",
          "name": "stdout",
          "text": [
            "+-----+-----------+------+------+----+----+-----+-----+-------+---------+---------+-----+-----+----+----+----------+----------+-------+-------+-----------+-----------+---------+---------+----------+----------+--------+----------+-------+------------+-------+---------------+------------+----------------+------------+----------+----------+----------+----------+----------+----------------+----------------+--------------+----------+-----+\n",
            "|state|        dur|sbytes|dbytes|sttl|dttl|sloss|dloss|service|    Sload|    dload|Spkts|Dpkts|swin|dwin|     stcpb|     dtcpb|smeansz|dmeansz|trans_depth|res_bdy_len|     Sjit|     Djit|     Stime|     Ltime| Sintpkt|   Dintpkt| tcprtt|      synack| ackdat|is_sm_ips_ports|ct_state_ttl|ct_flw_http_mthd|is_ftp_login|ct_ftp_cmd|ct_srv_src|ct_srv_dst|ct_dst_ltm|ct_src_ltm|ct_src_dport_ltm|ct_dst_sport_ltm|ct_dst_src_ltm|attack_cat|Label|\n",
            "+-----+-----------+------+------+----+----+-----+-----+-------+---------+---------+-----+-----+----+----+----------+----------+-------+-------+-----------+-----------+---------+---------+----------+----------+--------+----------+-------+------------+-------+---------------+------------+----------------+------------+----------+----------+----------+----------+----------+----------------+----------------+--------------+----------+-----+\n",
            "|  FIN|   0.101815|  4238| 65628|  31|  29|    7|   30|      -|328438.84|5087030.5|   72|   74| 255| 255| 961515433|3225510659|     59|    887|          0|          0|      0.0|91.579567|1421970775|1421970775|1.429493|  1.387192| 6.8E-4|5.4600002E-4|1.34E-4|              0|           0|               0|           0|         0|         7|         4|         1|         6|               1|               1|             1|      null|    0|\n",
            "|  FIN|0.044002999|  2750| 29104|  31|  29|    7|   17|      -|488693.97|5181101.5|   44|   48| 255| 255|3291096757|1191410228|     63|    606|          0|          0|78.126968|62.206562|1421970775|1421970775|1.014977|0.92583001|0.00125|     4.85E-4|7.65E-4|              0|           0|               0|           0|         0|         3|         5|         3|         3|               1|               1|             1|      null|    0|\n",
            "+-----+-----------+------+------+----+----+-----+-----+-------+---------+---------+-----+-----+----+----+----------+----------+-------+-------+-----------+-----------+---------+---------+----------+----------+--------+----------+-------+------------+-------+---------------+------------+----------------+------------+----------+----------+----------+----------+----------+----------------+----------------+--------------+----------+-----+\n",
            "only showing top 2 rows\n",
            "\n",
            "+-----+-----------+------+------+----+----+-----+-----+-------+---------+---------+-----+-----+----+----+----------+----------+-------+-------+-----------+-----------+---------+---------+----------+----------+--------+----------+-------+------------+-------+---------------+------------+----------------+------------+----------+----------+----------+----------+----------+----------------+----------------+--------------+----------+-----+\n",
            "|state|        dur|sbytes|dbytes|sttl|dttl|sloss|dloss|service|    Sload|    dload|Spkts|Dpkts|swin|dwin|     stcpb|     dtcpb|smeansz|dmeansz|trans_depth|res_bdy_len|     Sjit|     Djit|     Stime|     Ltime| Sintpkt|   Dintpkt| tcprtt|      synack| ackdat|is_sm_ips_ports|ct_state_ttl|ct_flw_http_mthd|is_ftp_login|ct_ftp_cmd|ct_srv_src|ct_srv_dst|ct_dst_ltm|ct_src_ltm|ct_src_dport_ltm|ct_dst_sport_ltm|ct_dst_src_ltm|attack_cat|Label|\n",
            "+-----+-----------+------+------+----+----+-----+-----+-------+---------+---------+-----+-----+----+----+----------+----------+-------+-------+-----------+-----------+---------+---------+----------+----------+--------+----------+-------+------------+-------+---------------+------------+----------------+------------+----------+----------+----------+----------+----------+----------------+----------------+--------------+----------+-----+\n",
            "|  FIN|   0.101815|  4238| 65628|  31|  29|    7|   30|      -|328438.84|5087030.5|   72|   74| 255| 255| 961515433|3225510659|     59|    887|          0|          0|      0.0|91.579567|1421970775|1421970775|1.429493|  1.387192| 6.8E-4|5.4600002E-4|1.34E-4|              0|           0|               0|           0|         0|         7|         4|         1|         6|               1|               1|             1|      null|    0|\n",
            "|  FIN|0.044002999|  2750| 29104|  31|  29|    7|   17|      -|488693.97|5181101.5|   44|   48| 255| 255|3291096757|1191410228|     63|    606|          0|          0|78.126968|62.206562|1421970775|1421970775|1.014977|0.92583001|0.00125|     4.85E-4|7.65E-4|              0|           0|               0|           0|         0|         3|         5|         3|         3|               1|               1|             1|      null|    0|\n",
            "+-----+-----------+------+------+----+----+-----+-----+-------+---------+---------+-----+-----+----+----+----------+----------+-------+-------+-----------+-----------+---------+---------+----------+----------+--------+----------+-------+------------+-------+---------------+------------+----------------+------------+----------+----------+----------+----------+----------+----------------+----------------+--------------+----------+-----+\n",
            "only showing top 2 rows\n",
            "\n",
            "+-----+-----------+------+------+----+----+-----+-----+-------+---------+---------+-----+-----+----+----+----------+----------+-------+-------+-----------+-----------+---------+---------+----------+----------+--------+----------+-------+------------+-------+---------------+------------+----------------+------------+----------+----------+----------+----------+----------+----------------+----------------+--------------+----------+-----+\n",
            "|state|        dur|sbytes|dbytes|sttl|dttl|sloss|dloss|service|    Sload|    dload|Spkts|Dpkts|swin|dwin|     stcpb|     dtcpb|smeansz|dmeansz|trans_depth|res_bdy_len|     Sjit|     Djit|     Stime|     Ltime| Sintpkt|   Dintpkt| tcprtt|      synack| ackdat|is_sm_ips_ports|ct_state_ttl|ct_flw_http_mthd|is_ftp_login|ct_ftp_cmd|ct_srv_src|ct_srv_dst|ct_dst_ltm|ct_src_ltm|ct_src_dport_ltm|ct_dst_sport_ltm|ct_dst_src_ltm|attack_cat|Label|\n",
            "+-----+-----------+------+------+----+----+-----+-----+-------+---------+---------+-----+-----+----+----+----------+----------+-------+-------+-----------+-----------+---------+---------+----------+----------+--------+----------+-------+------------+-------+---------------+------------+----------------+------------+----------+----------+----------+----------+----------+----------------+----------------+--------------+----------+-----+\n",
            "|  FIN|   0.101815|  4238| 65628|  31|  29|    7|   30|      -|328438.84|5087030.5|   72|   74| 255| 255| 961515433|3225510659|     59|    887|          0|          0|      0.0|91.579567|1421970775|1421970775|1.429493|  1.387192| 6.8E-4|5.4600002E-4|1.34E-4|              0|           0|               0|           0|         0|         7|         4|         1|         6|               1|               1|             1|      null|    0|\n",
            "|  FIN|0.044002999|  2750| 29104|  31|  29|    7|   17|      -|488693.97|5181101.5|   44|   48| 255| 255|3291096757|1191410228|     63|    606|          0|          0|78.126968|62.206562|1421970775|1421970775|1.014977|0.92583001|0.00125|     4.85E-4|7.65E-4|              0|           0|               0|           0|         0|         3|         5|         3|         3|               1|               1|             1|      null|    0|\n",
            "+-----+-----------+------+------+----+----+-----+-----+-------+---------+---------+-----+-----+----+----+----------+----------+-------+-------+-----------+-----------+---------+---------+----------+----------+--------+----------+-------+------------+-------+---------------+------------+----------------+------------+----------+----------+----------+----------+----------+----------------+----------------+--------------+----------+-----+\n",
            "only showing top 2 rows\n",
            "\n"
          ]
        }
      ]
    },
    {
      "cell_type": "markdown",
      "source": [
        "attack_cat features contains nulls. null values should be changes to something more relatable to the model.\n",
        "service features conatain '-' it should be changed to something more relatable also."
      ],
      "metadata": {
        "id": "uBSf-u6cqtK0"
      }
    },
    {
      "cell_type": "markdown",
      "source": [
        "#### CORRELATION BETWEEN THE INDEPENDENT VARIABLES"
      ],
      "metadata": {
        "id": "5LzujfDbvCKI"
      }
    },
    {
      "cell_type": "markdown",
      "source": [
        "To provides quantitative measurements of the statistical dependence between the features in the dataset. This will mean exploring the ML sublibrary of pyspark. Using the attack recordset, I will have to repair the dataset and convert to vector column to do this\n",
        "\n",
        "**CORRELATION BY PEARSON**"
      ],
      "metadata": {
        "id": "-gSTOSWBeq72"
      }
    },
    {
      "cell_type": "code",
      "source": [
        "from pyspark.ml.stat import Correlation\n",
        "from pyspark.ml.feature import VectorAssembler"
      ],
      "metadata": {
        "id": "fP4mshk9eDLt"
      },
      "execution_count": 77,
      "outputs": []
    },
    {
      "cell_type": "code",
      "source": [
        "## Replacing nulls with \"Normal\"\n",
        "Cor_data = data_pyspark.na.fill('Normal',['attack_cat'])\n",
        "## correct Backdoor to Backdoors\n",
        "Cor_data = Cor_data.withColumn(\"attack_cat\", when(trim(Cor_data.attack_cat) == \"Backdoor\",\"Backdoors\") \\\n",
        "      .otherwise(trim(Cor_data.attack_cat)))\n",
        "## correct - to NA\n",
        "Cor_data = Cor_data.withColumn(\"service\", when(Cor_data.service == \"-\",\"NA\") \\\n",
        "      .otherwise(Cor_data.service))\n",
        "## Drop string features\n",
        "Cor_data = Cor_data.drop('srcip','dstip','sport','dsport','proto')\n",
        "\n"
      ],
      "metadata": {
        "id": "3WSSeU0Ie85V"
      },
      "execution_count": null,
      "outputs": []
    },
    {
      "cell_type": "code",
      "source": [
        "from pyspark.ml.feature import StringIndexer\n",
        "stringIndexer = StringIndexer(inputCols=['state','service','attack_cat'], outputCols=['stateindex','serviceindex','attack_catindex'])\n",
        "model = stringIndexer.fit(Cor_data)\n",
        "Transcor_data = model.transform(Cor_data)\n",
        "\n",
        "# droping the unindexed fields\n",
        "Transcor_data = Transcor_data.drop('state','service','attack_cat')\n",
        "\n"
      ],
      "metadata": {
        "id": "ZLwjQ0R-gRQw"
      },
      "execution_count": null,
      "outputs": []
    },
    {
      "cell_type": "code",
      "source": [
        "# convert to vector column first\n",
        "vector_col = \"corr_features\"\n",
        "assembler = VectorAssembler(inputCols=Transcor_data.columns, outputCol=vector_col)\n",
        "df_vector = assembler.transform(Transcor_data).select(vector_col)\n",
        "\n",
        "# get correlation matrix\n",
        "pearsonCorr = Correlation.corr(df_vector, vector_col,'pearson')\n",
        "pearsonCorr.show()"
      ],
      "metadata": {
        "colab": {
          "base_uri": "https://localhost:8080/"
        },
        "id": "rpgDnsk5eKZV",
        "outputId": "20667e73-014e-440f-d67d-dc97c0dd8f70"
      },
      "execution_count": 80,
      "outputs": [
        {
          "output_type": "stream",
          "name": "stdout",
          "text": [
            "+-------------------------------------------------------------------------------------------------------------------------------------------------------------------------------------------------------------------------------------------------------------------------------------------------------------------------------------------------------------------------------------------------------------------------------------------------------------------------------------------------------------------------------------------------------------------------------------------------------------------------------------------------------------------------------------------------------------------------------------------------------------------------------------------------------------------------------------------------------------------------------------------------------------------------------------------------------------------------------------------------------------------------------------------------------------------------------------------------------------------------------------------------------------------------------------------------------------------------------------------------------------------------------------------------------------------------------------------------------------------------------------------------------------------------------------------------------------------------------------------------------------------------------------------------------------------------------------------------------------------------------------------------------------------------------------------------------------------------------------------------------------------------------------------------------------------------------------------------------------------------------------------------------------------------------------------------------------------------------------------------------------------------------------------------------------------------------------------------------------------------------------------------------------------------------------------------------------------------------------------------------------------------------------------------------------------------------------------------------------------------------------------------------------------------------------+\n",
            "|pearson(corr_features)                                                                                                                                                                                                                                                                                                                                                                                                                                                                                                                                                                                                                                                                                                                                                                                                                                                                                                                                                                                                                                                                                                                                                                                                                                                                                                                                                                                                                                                                                                                                                                                                                                                                                                                                                                                                                                                                                                                                                                                                                                                                                                                                                                                                                                                                                                                                                                                                               |\n",
            "+-------------------------------------------------------------------------------------------------------------------------------------------------------------------------------------------------------------------------------------------------------------------------------------------------------------------------------------------------------------------------------------------------------------------------------------------------------------------------------------------------------------------------------------------------------------------------------------------------------------------------------------------------------------------------------------------------------------------------------------------------------------------------------------------------------------------------------------------------------------------------------------------------------------------------------------------------------------------------------------------------------------------------------------------------------------------------------------------------------------------------------------------------------------------------------------------------------------------------------------------------------------------------------------------------------------------------------------------------------------------------------------------------------------------------------------------------------------------------------------------------------------------------------------------------------------------------------------------------------------------------------------------------------------------------------------------------------------------------------------------------------------------------------------------------------------------------------------------------------------------------------------------------------------------------------------------------------------------------------------------------------------------------------------------------------------------------------------------------------------------------------------------------------------------------------------------------------------------------------------------------------------------------------------------------------------------------------------------------------------------------------------------------------------------------------------+\n",
            "|1.0                     0.033268689774862484    ... (44 total)\\n0.033268689774862484    1.0                     ...\\n0.08696993592951305     0.047025536003439165    ...\\n-0.003653159739958445   -0.008924613388845383   ...\\n0.010704417325709347    0.0664196637747025      ...\\n0.041492073231870166    0.9534935536263462      ...\\n0.0877117994880414      0.05118081700590351     ...\\n-0.01471325911295996    -0.020987142069726385   ...\\n-0.022505841337180442   -0.0067905416071493176  ...\\n0.08808038248016224     0.6028425177873586      ...\\n0.08936696536733536     0.10974677474581172     ...\\n0.011120779589989787    0.059774169301424825    ...\\n0.01065167625143447     0.05993924884227566     ...\\n0.00774212061473008     0.044795443745978505    ...\\n0.007786782401981755    0.04421847943787382     ...\\n-0.003158294768918592   0.187947206846737       ...\\n0.0358195278788792      0.016013857933129802    ...\\n0.01654281817563832     4.616791050399711E-4    ...\\n0.04387210043589932     0.020545115472964285    ...\\n0.03318525081902669     0.0013924375953728691   ...\\n0.04801862279984455     0.0014940240926532146   ...\\n-0.005618989259665567   -0.006677808213326671   ...\\n-0.0056066483904388875  -0.006677404031574049   ...\\n0.07169186303336228     -0.004744292364491268   ...\\n0.09715133723398595     -0.002711329618744755   ...\\n0.011355429866587566    0.027184252208810458    ...\\n0.010582376805856749    0.023593840502707356    ...\\n0.010426904180680431    0.026845686871283136    ...\\n0.006095499647743677    -0.003094391327854079   ...\\n0.010420657572563585    -0.003332715466616651   ...\\n0.014119071538895776    -0.0028812056280582404  ...\\n0.007082768941770463    -0.003360659595190856   ...\\n0.0064103165972999865   -0.002880278482072403   ...\\n-0.019280513201037276   -0.0351210621114986     ...\\n-0.018433142325795536   -0.0351594465034724     ...\\n-0.013800662747344459   -0.027998719457533246   ...\\n-0.01587460455270723    -0.027655047381043966   ...\\n-0.013105726810113788   -0.02793248614229266    ...\\n-0.011310005001928875   -0.028037066986496523   ...\\n-0.01608969904835853    -0.031108863552185728   ...\\n0.0019570550365779543   0.010177237455052958    ...\\n0.0011262690805904985   -0.04991934157982363    ...\\n0.00195376908039431     0.06300236296885399     ...\\n0.012204180562646284    0.019471640501982457    ...|\n",
            "+-------------------------------------------------------------------------------------------------------------------------------------------------------------------------------------------------------------------------------------------------------------------------------------------------------------------------------------------------------------------------------------------------------------------------------------------------------------------------------------------------------------------------------------------------------------------------------------------------------------------------------------------------------------------------------------------------------------------------------------------------------------------------------------------------------------------------------------------------------------------------------------------------------------------------------------------------------------------------------------------------------------------------------------------------------------------------------------------------------------------------------------------------------------------------------------------------------------------------------------------------------------------------------------------------------------------------------------------------------------------------------------------------------------------------------------------------------------------------------------------------------------------------------------------------------------------------------------------------------------------------------------------------------------------------------------------------------------------------------------------------------------------------------------------------------------------------------------------------------------------------------------------------------------------------------------------------------------------------------------------------------------------------------------------------------------------------------------------------------------------------------------------------------------------------------------------------------------------------------------------------------------------------------------------------------------------------------------------------------------------------------------------------------------------------------------+\n",
            "\n"
          ]
        },
        {
          "output_type": "stream",
          "name": "stderr",
          "text": [
            "/usr/local/lib/python3.7/dist-packages/pyspark/sql/context.py:127: FutureWarning: Deprecated in 3.0.0. Use SparkSession.builder.getOrCreate() instead.\n",
            "  FutureWarning\n"
          ]
        }
      ]
    },
    {
      "cell_type": "code",
      "source": [
        "pearsonCorr.collect()[0][\"pearson({})\".format(vector_col)].values"
      ],
      "metadata": {
        "colab": {
          "base_uri": "https://localhost:8080/"
        },
        "id": "r0YYZkuXfr-M",
        "outputId": "070e01c6-9862-41ed-df3e-ae59aaea1104"
      },
      "execution_count": 24,
      "outputs": [
        {
          "output_type": "execute_result",
          "data": {
            "text/plain": [
              "array([ 1.        ,  0.03326869,  0.08696994, ...,  0.28683485,\n",
              "       -0.03902499,  1.        ])"
            ]
          },
          "metadata": {},
          "execution_count": 24
        }
      ]
    },
    {
      "cell_type": "markdown",
      "source": [
        "**CORRELATION BY SCATTER MATRIX**\n",
        "\n",
        "due to the volume of our dataset and the effect of such volume on space, correlation will be demonstrated on 10% sample of the dataset"
      ],
      "metadata": {
        "id": "cY93kOnkyGDA"
      }
    },
    {
      "cell_type": "code",
      "source": [
        "numeric_features = [t[0] for t in Cor_data.dtypes if t[1] == 'int' or t[1] == 'long'or t[1] == 'double']\n",
        "numeric_data = Cor_data.sample(0.1).select(numeric_features).toPandas()"
      ],
      "metadata": {
        "id": "OQI6dWSRvPy6"
      },
      "execution_count": 11,
      "outputs": []
    },
    {
      "cell_type": "code",
      "source": [
        "axs = pd.plotting.scatter_matrix(numeric_data, figsize=(8, 8));\n",
        "n = len(numeric_data.columns)\n",
        "\n",
        "for i in range(n):\n",
        "    v = axs[i, 0]\n",
        "    v.yaxis.label.set_rotation(0)\n",
        "    v.yaxis.label.set_ha('right')\n",
        "    v.set_yticks(())\n",
        "    h = axs[n-1, i]\n",
        "    h.xaxis.label.set_rotation(90)\n",
        "    h.set_xticks(())"
      ],
      "metadata": {
        "colab": {
          "base_uri": "https://localhost:8080/",
          "height": 560
        },
        "id": "hzd1aDtrwl2x",
        "outputId": "b4d14bd6-3249-491f-ea4b-299c5c7873e8"
      },
      "execution_count": 12,
      "outputs": [
        {
          "output_type": "display_data",
          "data": {
            "image/png": "[encoded data removed]",
            "text/plain": [
              "<Figure size 576x576 with 1521 Axes>"
            ]
          },
          "metadata": {
            "needs_background": "light"
          }
        }
      ]
    },
    {
      "cell_type": "code",
      "source": [
        "print('Covariance Matrix:',np.cov(Cor_data))"
      ],
      "metadata": {
        "id": "KuPCHObtn5bt"
      },
      "execution_count": null,
      "outputs": []
    },
    {
      "cell_type": "markdown",
      "source": [
        "The numeric features show low correlation as such all numeric features qaulifies for the model. However few repairs of the dataset is required"
      ],
      "metadata": {
        "id": "AQqXPvpE2VF7"
      }
    },
    {
      "cell_type": "markdown",
      "source": [
        "### HYPOTHESIS TESTING"
      ],
      "metadata": {
        "id": "1InwRosqVE-H"
      }
    },
    {
      "cell_type": "code",
      "source": [
        "from pyspark.ml.linalg import Vectors\n",
        "from pyspark.ml.stat import ChiSquareTest\n",
        "from pyspark.ml.feature import VectorIndexer,VectorAssembler\n",
        "from pyspark.ml import Pipeline"
      ],
      "metadata": {
        "id": "8wMbtOsTVJWf"
      },
      "execution_count": 93,
      "outputs": []
    },
    {
      "cell_type": "code",
      "source": [
        "categoryindexer = StringIndexer(\n",
        "  inputCols = [\"state\",'service','ct_state_ttl','ct_flw_http_mthd','is_ftp_login','ct_ftp_cmd','ct_srv_src','ct_srv_dst','ct_dst_ltm',\n",
        "    'ct_src_ltm','ct_src_dport_ltm','ct_dst_sport_ltm','ct_dst_src_ltm',\"attack_cat\"]\n",
        "  , outputCols = [\"state_index\",\"service_index\",'ct_state_ttl_index','ct_flw_http_mthd_index',\n",
        "                  'is_ftp_login_index','ct_ftp_cmd_index','ct_srv_src_index','ct_srv_dst_index','ct_dst_ltm_index',\n",
        "    'ct_src_ltm_index','ct_src_dport_ltm_index','ct_dst_sport_ltm_index','ct_dst_src_ltm_index',\"attack_cat_index\"]\n",
        ")\n",
        "\n",
        "assembler = VectorAssembler(\n",
        "  inputCols = [\"state_index\",\"service_index\",'ct_state_ttl_index','ct_flw_http_mthd_index',\n",
        "                  'is_ftp_login_index','ct_ftp_cmd_index','ct_srv_src_index','ct_srv_dst_index','ct_dst_ltm_index',\n",
        "    'ct_src_ltm_index','ct_src_dport_ltm_index','ct_dst_sport_ltm_index','ct_dst_src_ltm_index',\"attack_cat_index\"]\n",
        "  , outputCol = \"features\"\n",
        ")\n",
        "\n",
        "pipeline = Pipeline(stages = [categoryindexer, assembler]) \n",
        "model = pipeline.fit(Cor_data)\n",
        "transformed = model.transform(Cor_data).select('features','Label')\n",
        "\n"
      ],
      "metadata": {
        "id": "3v2yX763VZJT"
      },
      "execution_count": 94,
      "outputs": []
    },
    {
      "cell_type": "code",
      "source": [
        "from numpy.core.numeric import False_\n",
        "r = ChiSquareTest.test(transformed, \"features\", \"Label\")\n",
        "r.show(truncate = True)\n",
        "\n",
        "\n",
        "res = r.head()\n",
        "print(\"pValues: \" + str(res.pValues))\n",
        "print(\"degreesOfFreedom: \" + str(res.degreesOfFreedom))\n",
        "print(\"statistics: \" + str(res.statistics))"
      ],
      "metadata": {
        "colab": {
          "base_uri": "https://localhost:8080/"
        },
        "id": "ZAdiGnnMWD4f",
        "outputId": "a8845911-7df6-468f-e5c3-184b26c4ce7c"
      },
      "execution_count": 97,
      "outputs": [
        {
          "output_type": "stream",
          "name": "stderr",
          "text": [
            "/usr/local/lib/python3.7/dist-packages/pyspark/sql/context.py:127: FutureWarning: Deprecated in 3.0.0. Use SparkSession.builder.getOrCreate() instead.\n",
            "  FutureWarning\n"
          ]
        },
        {
          "output_type": "stream",
          "name": "stdout",
          "text": [
            "+--------------------+--------------------+--------------------+\n",
            "|             pValues|    degreesOfFreedom|          statistics|\n",
            "+--------------------+--------------------+--------------------+\n",
            "|[0.0,0.0,0.0,0.0,...|[15, 12, 6, 15, 3...|[907539.284195906...|\n",
            "+--------------------+--------------------+--------------------+\n",
            "\n",
            "pValues: [0.0,0.0,0.0,0.0,0.0,0.0,0.0,0.0,0.0,0.0,0.0,0.0,0.0,0.0]\n",
            "degreesOfFreedom: [15, 12, 6, 15, 3, 7, 64, 65, 61, 61, 61, 54, 64, 9]\n",
            "statistics: [907539.2841959061,230558.47962189929,2268408.3367428533,5012.23558323105,2725.478529195289,2771.0806758175295,510642.34059513826,537273.3253034686,567871.0124321447,531349.4121990484,692053.6894357714,737997.0676973698,632628.5777436411,2539738.0]\n"
          ]
        }
      ]
    },
    {
      "cell_type": "markdown",
      "source": [
        "### DATASET PREPARATION FOR MACHINE LEARNING"
      ],
      "metadata": {
        "id": "d4LP1eU4KNlc"
      }
    },
    {
      "cell_type": "markdown",
      "source": [
        "It is clear from above that service feature contains unwanted value and attack_category conatinas null values. we will therefore update this data with relevant values for the model and finally drop string columns"
      ],
      "metadata": {
        "id": "pSOe-GXLK2wy"
      }
    },
    {
      "cell_type": "code",
      "source": [
        "## Replacing nulls with \"Normal\"\n",
        "data_pyspark2 = data_pyspark.na.fill('Normal',['attack_cat'])"
      ],
      "metadata": {
        "id": "a-qAcKTHKXKc"
      },
      "execution_count": 9,
      "outputs": []
    },
    {
      "cell_type": "code",
      "source": [
        "## correct Backdoor to Backdoors\n",
        "data_pyspark2 = data_pyspark2.withColumn(\"attack_cat\", when(trim(data_pyspark2.attack_cat) == \"Backdoor\",\"Backdoors\") \\\n",
        "      .otherwise(trim(data_pyspark2.attack_cat)))"
      ],
      "metadata": {
        "id": "bJCcgT2gJo3t"
      },
      "execution_count": 10,
      "outputs": []
    },
    {
      "cell_type": "code",
      "source": [
        "## correct - to NA\n",
        "data_pyspark2 = data_pyspark2.withColumn(\"service\", when(data_pyspark2.service == \"-\",\"NA\") \\\n",
        "      .otherwise(data_pyspark2.service))"
      ],
      "metadata": {
        "id": "BgAhKGBEMXvh"
      },
      "execution_count": 11,
      "outputs": []
    },
    {
      "cell_type": "code",
      "source": [
        "## Drop string features\n",
        "data_pyspark2 = data_pyspark2.drop('srcip','dstip','sport','dsport','proto')"
      ],
      "metadata": {
        "id": "MfgwDDqhR2zg"
      },
      "execution_count": 12,
      "outputs": []
    },
    {
      "cell_type": "code",
      "source": [
        "\n",
        "datagroupby = data_pyspark2.groupBy(trim(data_pyspark2.attack_cat)).count().alias('Count')\n",
        "datagroupby.show()"
      ],
      "metadata": {
        "colab": {
          "base_uri": "https://localhost:8080/"
        },
        "id": "TZ9NFEKnMu50",
        "outputId": "c08b0692-0872-4e85-b329-8330c5275533"
      },
      "execution_count": 13,
      "outputs": [
        {
          "output_type": "stream",
          "name": "stdout",
          "text": [
            "+----------------+-------+\n",
            "|trim(attack_cat)|  count|\n",
            "+----------------+-------+\n",
            "|           Worms|    174|\n",
            "|       Shellcode|   1511|\n",
            "|       Backdoors|   2329|\n",
            "|         Fuzzers|  24246|\n",
            "|        Analysis|   2677|\n",
            "|             DoS|  16353|\n",
            "|  Reconnaissance|  13987|\n",
            "|        Exploits|  44525|\n",
            "|          Normal|2218455|\n",
            "|         Generic| 215481|\n",
            "+----------------+-------+\n",
            "\n"
          ]
        }
      ]
    },
    {
      "cell_type": "markdown",
      "source": [
        "The process further includes Category Indexing, One-Hot Encoding and VectorAssembler (a feature transformer that will merges the columns into a vector column).\n",
        "\n",
        "StringIndexer will index each category column and then will be converted into one-hot encoded variables. The resulting output has the binary vectors appended to the end of each row. We use the StringIndexer again to encode our Labels to label indices. Next, we use the VectorAssembler to combine all the feature columns into a single vector column."
      ],
      "metadata": {
        "id": "BPZD_4L8Psx_"
      }
    },
    {
      "cell_type": "markdown",
      "source": [
        "### BINOMIAL LOGISTIC REGRESSION MODEL (Binary Classification)"
      ],
      "metadata": {
        "id": "g5JyFg0tgLst"
      }
    },
    {
      "cell_type": "markdown",
      "source": [
        "##### PIPELINE AND SPLIT DATASET INTO TRAIN AND TEST SET"
      ],
      "metadata": {
        "id": "akCCHqbnWmpK"
      }
    },
    {
      "cell_type": "code",
      "source": [
        "#Binomial data prepration\n",
        "from pyspark.ml.feature import StringIndexer, VectorAssembler\n",
        "from pyspark.ml.feature import OneHotEncoder\n",
        "stages = []\n",
        "categoricalColumns = ['proto', 'state','service', 'attack_cat']\n",
        "\n",
        "for categoricalCol in categoricalColumns:\n",
        "    stringIndexer = StringIndexer(inputCol = categoricalCol, outputCol = categoricalCol + 'Index')\n",
        "    encoder = OneHotEncoder(\n",
        "        inputCols=[stringIndexer.getOutputCol()], \n",
        "        outputCols=[categoricalCol + \"classVec\"]\n",
        "    )\n",
        "    # stage 1\n",
        "    stages += [stringIndexer, encoder]\n",
        "    \n",
        "label_stringIdx = StringIndexer(inputCol = 'Label', outputCol = 'label')\n",
        "    # stage 2\n",
        "stages += [label_stringIdx]\n",
        "numericCols = ['dsport', 'dur', 'sbytes', 'dbytes', 'sttl', 'dttl', 'sloss', 'dloss',\n",
        "               'Sload', 'dload', 'Spkts', 'Dpkts', 'swin', 'dwin', 'smeansz', 'dmeansz', 'trans_depth',\n",
        "               'res_bdy_len', 'Sjit', 'Djit', 'Stime', 'Ltime', 'Sintpkt', 'Dintpkt', 'tcprtt', 'synack',\n",
        "               'ackdat', 'is_sm_ips_ports', 'ct_state_ttl', 'ct_flw_http_mthd', 'is_ftp_login',\n",
        "               'ct_ftp_cmd', 'ct_srv_src', 'ct_srv_dst', 'ct_dst_ltm', 'ct_src_ltm', 'ct_src_dport_ltm',\n",
        "               'ct_dst_sport_ltm', 'ct_dst_src_ltm']\n",
        "assemblerInputs = [c + \"classVec\" for c in categoricalColumns] + numericCols\n",
        "assembler = VectorAssembler(inputCols=assemblerInputs, outputCol=\"features\")\n",
        "    # stage 2\n",
        "stages += [assembler]"
      ],
      "metadata": {
        "id": "Q20LUVZgQfUf"
      },
      "execution_count": 22,
      "outputs": []
    },
    {
      "cell_type": "markdown",
      "source": [
        "Pipeline will be used to chain all the stages for a single more resillient processing of the dataset with a fit and transform operation"
      ],
      "metadata": {
        "id": "_0X3zTutWpvR"
      }
    },
    {
      "cell_type": "markdown",
      "source": [
        "Splitting dataset into trainset and testset respectively and 30% held out for testing, using seed in other to be able to replicate the splitting in the future"
      ],
      "metadata": {
        "id": "oe5Ql6x_Z7NS"
      }
    },
    {
      "cell_type": "code",
      "source": [
        "#Binomial data prepration\n",
        "\n",
        "from pyspark.ml import Pipeline\n",
        "\n",
        "Binomialdata = data_pyspark2\n",
        "\n",
        "pipeline = Pipeline(stages = stages)\n",
        "pipelineModel = pipeline.fit(Binomialdata)\n",
        "Binomialdata = pipelineModel.transform(Binomialdata)\n",
        "selectedCols = ['label', 'features']\n",
        "data_pyspark3 = Binomialdata.select(selectedCols)\n",
        "data_pyspark3.printSchema()"
      ],
      "metadata": {
        "colab": {
          "base_uri": "https://localhost:8080/"
        },
        "id": "5LRlkV8pW5vz",
        "outputId": "a765a1fc-9584-4168-fb7f-d9949951faed"
      },
      "execution_count": 32,
      "outputs": [
        {
          "output_type": "stream",
          "name": "stdout",
          "text": [
            "root\n",
            " |-- label: double (nullable = false)\n",
            " |-- features: vector (nullable = true)\n",
            "\n"
          ]
        }
      ]
    },
    {
      "cell_type": "code",
      "source": [
        "trainset, testset = data_pyspark3.randomSplit([0.7, 0.3], seed = 2021)\n",
        "print(\"Training Dataset Count: \" + str(trainset.count()))\n",
        "print(\"Test Dataset Count: \" + str(testset.count()))"
      ],
      "metadata": {
        "colab": {
          "base_uri": "https://localhost:8080/"
        },
        "id": "YxXkEhwyZoWW",
        "outputId": "e10e3e09-1408-4d20-baad-44c19cd509b7"
      },
      "execution_count": 25,
      "outputs": [
        {
          "output_type": "stream",
          "name": "stdout",
          "text": [
            "Training Dataset Count: 1777507\n",
            "Test Dataset Count: 762231\n"
          ]
        }
      ]
    },
    {
      "cell_type": "code",
      "source": [
        "from pyspark.ml.classification import LogisticRegression\n",
        "\n",
        "lr = LogisticRegression(featuresCol = 'features', labelCol = 'label', maxIter=10)\n",
        "lrModel = lr.fit(trainset)"
      ],
      "metadata": {
        "id": "AUgfWTRagXQC"
      },
      "execution_count": 26,
      "outputs": []
    },
    {
      "cell_type": "markdown",
      "source": [
        "**SUMMARY:** Coefficients by using LogisticRegressionModel’s attributes."
      ],
      "metadata": {
        "id": "jl6laLCWiHvB"
      }
    },
    {
      "cell_type": "code",
      "source": [
        "import matplotlib.pyplot as plt\n",
        "import numpy as np\n",
        "\n",
        "beta = np.sort(lrModel.coefficients)\n",
        "plt.plot(beta)\n",
        "plt.ylabel('Beta Coefficients')\n",
        "plt.show()\n"
      ],
      "metadata": {
        "colab": {
          "base_uri": "https://localhost:8080/",
          "height": 0
        },
        "id": "k7tQbsPJh2VX",
        "outputId": "c3d00ddf-47f4-4759-c475-b71b0178a868"
      },
      "execution_count": 27,
      "outputs": [
        {
          "output_type": "display_data",
          "data": {
            "image/png": "[encoded data removed]",
            "text/plain": [
              "<Figure size 432x288 with 1 Axes>"
            ]
          },
          "metadata": {
            "needs_background": "light"
          }
        }
      ]
    },
    {
      "cell_type": "markdown",
      "source": [
        "**SUMMARY:** Obtaining the ROC Receiver-Operating Characteristic and the Area under ROC (areaUnderROC)."
      ],
      "metadata": {
        "id": "viELll39imo3"
      }
    },
    {
      "cell_type": "code",
      "source": [
        "trainingSummary = lrModel.summary\n",
        "lrROC = trainingSummary.roc.toPandas()\n",
        "\n",
        "plt.plot(lrROC['FPR'],lrROC['TPR'])\n",
        "plt.ylabel('False Positive Rate')\n",
        "plt.xlabel('True Positive Rate')\n",
        "plt.title('ROC Curve')\n",
        "plt.show()\n",
        "\n",
        "print('Training Set areaUnderROC: ' + str(trainingSummary.areaUnderROC))"
      ],
      "metadata": {
        "colab": {
          "base_uri": "https://localhost:8080/",
          "height": 0
        },
        "id": "enXnV2L6iopX",
        "outputId": "07dc8304-835e-493d-a278-6cdfa7ef827b"
      },
      "execution_count": 28,
      "outputs": [
        {
          "output_type": "stream",
          "name": "stderr",
          "text": [
            "/usr/local/lib/python3.7/dist-packages/pyspark/sql/context.py:127: FutureWarning: Deprecated in 3.0.0. Use SparkSession.builder.getOrCreate() instead.\n",
            "  FutureWarning\n"
          ]
        },
        {
          "output_type": "display_data",
          "data": {
            "image/png": "[encoded data removed]",
            "text/plain": [
              "<Figure size 432x288 with 1 Axes>"
            ]
          },
          "metadata": {
            "needs_background": "light"
          }
        },
        {
          "output_type": "stream",
          "name": "stdout",
          "text": [
            "Training Set areaUnderROC: 0.9999864242380915\n"
          ]
        }
      ]
    },
    {
      "cell_type": "code",
      "source": [
        "pr = trainingSummary.pr.toPandas()\n",
        "plt.plot(pr['recall'],pr['precision'])\n",
        "plt.ylabel('Precision')\n",
        "plt.xlabel('Recall')\n",
        "plt.show()\n",
        "print('Accuracy of the training: '+ str(trainingSummary.accuracy))"
      ],
      "metadata": {
        "colab": {
          "base_uri": "https://localhost:8080/",
          "height": 0
        },
        "id": "_Fi5DLeNkWNQ",
        "outputId": "b263d660-d65d-4668-a096-b13938e4f834"
      },
      "execution_count": 29,
      "outputs": [
        {
          "output_type": "stream",
          "name": "stderr",
          "text": [
            "/usr/local/lib/python3.7/dist-packages/pyspark/sql/context.py:127: FutureWarning: Deprecated in 3.0.0. Use SparkSession.builder.getOrCreate() instead.\n",
            "  FutureWarning\n"
          ]
        },
        {
          "output_type": "display_data",
          "data": {
            "image/png": "[encoded data removed]",
            "text/plain": [
              "<Figure size 432x288 with 1 Axes>"
            ]
          },
          "metadata": {
            "needs_background": "light"
          }
        },
        {
          "output_type": "stream",
          "name": "stdout",
          "text": [
            "Quantifies the number of correct positive predictions made vs what was made out of the dataset\n",
            "Accuracy of the training: 0.9999887482862233\n"
          ]
        }
      ]
    },
    {
      "cell_type": "markdown",
      "source": [
        "**Predition:** Predicting with the test Dateset"
      ],
      "metadata": {
        "id": "lWe-xFrYpipZ"
      }
    },
    {
      "cell_type": "code",
      "source": [
        "lrPreds = lrModel.transform(testset)\n",
        "lrPreds.select('label', 'rawPrediction', 'prediction', 'probability').show(10)"
      ],
      "metadata": {
        "colab": {
          "base_uri": "https://localhost:8080/"
        },
        "id": "CQMNurjolkE1",
        "outputId": "a3f68f66-1417-4ecb-969a-eb4ca79009c8"
      },
      "execution_count": 16,
      "outputs": [
        {
          "output_type": "stream",
          "name": "stdout",
          "text": [
            "+-----+--------------------+----------+--------------------+\n",
            "|label|       rawPrediction|prediction|         probability|\n",
            "+-----+--------------------+----------+--------------------+\n",
            "|  0.0|[7.12580303641990...|       0.0|[0.99919655899688...|\n",
            "|  0.0|[7.60627046673172...|       0.0|[0.99950292402000...|\n",
            "|  0.0|[7.48662341714987...|       0.0|[0.99943978156767...|\n",
            "|  0.0|[7.45663146724366...|       0.0|[0.99942273486969...|\n",
            "|  0.0|[5.94679952892587...|       0.0|[0.99739262239466...|\n",
            "|  0.0|[5.92456737920999...|       0.0|[0.99733416187403...|\n",
            "|  0.0|[5.88873736561613...|       0.0|[0.99723718172889...|\n",
            "|  0.0|[6.10801003801380...|       0.0|[0.99777996549505...|\n",
            "|  0.0|[6.16691246839997...|       0.0|[0.99790668840971...|\n",
            "|  0.0|[6.21289711640005...|       0.0|[0.99800058079303...|\n",
            "+-----+--------------------+----------+--------------------+\n",
            "only showing top 10 rows\n",
            "\n"
          ]
        }
      ]
    },
    {
      "cell_type": "markdown",
      "source": [
        "**Evaluation:** Evaluating Logistic Regression Model on the dataset"
      ],
      "metadata": {
        "id": "VDtCGqZIp-LD"
      }
    },
    {
      "cell_type": "code",
      "source": [
        "from pyspark.ml.evaluation import BinaryClassificationEvaluator\n",
        "\n",
        "lrEval = BinaryClassificationEvaluator()\n",
        "print('Test Area Under ROC', lrEval.evaluate(lrPreds))"
      ],
      "metadata": {
        "colab": {
          "base_uri": "https://localhost:8080/"
        },
        "id": "3HTTxKIip--X",
        "outputId": "34c1af73-1507-43d8-b2d1-e958be949d56"
      },
      "execution_count": 28,
      "outputs": [
        {
          "output_type": "stream",
          "name": "stdout",
          "text": [
            "Test Area Under ROC 0.9999995492031808\n"
          ]
        }
      ]
    },
    {
      "cell_type": "code",
      "source": [
        ""
      ],
      "metadata": {
        "id": "QZBSIWVW_Jtp"
      },
      "execution_count": null,
      "outputs": []
    },
    {
      "cell_type": "markdown",
      "source": [
        "### MULTINOMIAL LOGISTIC REGRESSION MODEL (Multiclass Classification)"
      ],
      "metadata": {
        "id": "ow4t6_LQ_L_F"
      }
    },
    {
      "cell_type": "code",
      "source": [
        "#Multinomial data prepration\n",
        "from pyspark.ml.feature import StringIndexer, VectorAssembler\n",
        "from pyspark.ml.feature import OneHotEncoder\n",
        "pstages = []\n",
        "pcategoricalColumns = ['proto', 'state','service']\n",
        "\n",
        "for categoricalCol in pcategoricalColumns:\n",
        "    pstringIndexer = StringIndexer(inputCol = categoricalCol, outputCol = categoricalCol + 'Index')\n",
        "    pencoder = OneHotEncoder(\n",
        "        inputCols=[pstringIndexer.getOutputCol()], \n",
        "        outputCols=[categoricalCol + \"classVec\"]\n",
        "    )\n",
        "    # stage 1\n",
        "    pstages += [pstringIndexer, pencoder]\n",
        "    \n",
        "plabel_stringIdx = StringIndexer(inputCol = 'attack_cat', outputCol = 'label')\n",
        "    # stage 2\n",
        "pstages += [plabel_stringIdx]\n",
        "pnumericCols = ['dsport', 'dur', 'sbytes', 'dbytes', 'sttl', 'dttl', 'sloss', 'dloss',\n",
        "               'Sload', 'dload', 'Spkts', 'Dpkts', 'swin', 'dwin', 'smeansz', 'dmeansz', 'trans_depth',\n",
        "               'res_bdy_len', 'Sjit', 'Djit', 'Stime', 'Ltime', 'Sintpkt', 'Dintpkt', 'tcprtt', 'synack',\n",
        "               'ackdat', 'is_sm_ips_ports', 'ct_state_ttl', 'ct_flw_http_mthd', 'is_ftp_login',\n",
        "               'ct_ftp_cmd', 'ct_srv_src', 'ct_srv_dst', 'ct_dst_ltm', 'ct_src_ltm', 'ct_src_dport_ltm',\n",
        "               'ct_dst_sport_ltm', 'ct_dst_src_ltm','label']\n",
        "passemblerInputs = [c + \"classVec\" for c in pcategoricalColumns] + pnumericCols\n",
        "passembler = VectorAssembler(inputCols=passemblerInputs, outputCol=\"features\")\n",
        "    # stage 2\n",
        "pstages += [passembler]"
      ],
      "metadata": {
        "id": "RgqJdjWg4n7S"
      },
      "execution_count": 77,
      "outputs": []
    },
    {
      "cell_type": "code",
      "source": [
        "#Multinomial \n",
        "from pyspark.ml import Pipeline\n",
        "\n",
        "Multinomialdata = data_pyspark2\n",
        "\n",
        "ppipeline = Pipeline(stages = pstages)\n",
        "ppipelineModel = ppipeline.fit(Multinomialdata)\n",
        "Multinomialdata = ppipelineModel.transform(Multinomialdata)\n",
        "pselectedCols = ['label', 'features']\n",
        "data_pyspark4 = Multinomialdata.select(pselectedCols)\n",
        "data_pyspark4.printSchema()"
      ],
      "metadata": {
        "colab": {
          "base_uri": "https://localhost:8080/"
        },
        "id": "EBQF2NNV6O6o",
        "outputId": "5362d1e9-a726-4479-eefe-0efb3082750c"
      },
      "execution_count": 78,
      "outputs": [
        {
          "output_type": "stream",
          "name": "stdout",
          "text": [
            "root\n",
            " |-- label: double (nullable = false)\n",
            " |-- features: vector (nullable = true)\n",
            "\n"
          ]
        }
      ]
    },
    {
      "cell_type": "code",
      "source": [
        "pdf = pd.DataFrame(data_pyspark4.take(5), columns=data_pyspark4.columns)\n",
        "pdf.iloc[:,0:2] \n"
      ],
      "metadata": {
        "colab": {
          "base_uri": "https://localhost:8080/",
          "height": 206
        },
        "id": "4UivFyDwX8q_",
        "outputId": "f767a0df-f162-4142-f0c7-de0fa3bbe051"
      },
      "execution_count": 79,
      "outputs": [
        {
          "output_type": "execute_result",
          "data": {
            "text/html": [
              "\n",
              "  <div id=\"df-211d24f9-6ee9-4ba2-b23c-afc738f48b57\">\n",
              "    <div class=\"colab-df-container\">\n",
              "      <div>\n",
              "<style scoped>\n",
              "    .dataframe tbody tr th:only-of-type {\n",
              "        vertical-align: middle;\n",
              "    }\n",
              "\n",
              "    .dataframe tbody tr th {\n",
              "        vertical-align: top;\n",
              "    }\n",
              "\n",
              "    .dataframe thead th {\n",
              "        text-align: right;\n",
              "    }\n",
              "</style>\n",
              "<table border=\"1\" class=\"dataframe\">\n",
              "  <thead>\n",
              "    <tr style=\"text-align: right;\">\n",
              "      <th></th>\n",
              "      <th>label</th>\n",
              "      <th>features</th>\n",
              "    </tr>\n",
              "  </thead>\n",
              "  <tbody>\n",
              "    <tr>\n",
              "      <th>0</th>\n",
              "      <td>0.0</td>\n",
              "      <td>(1.0, 0.0, 0.0, 0.0, 0.0, 0.0, 0.0, 0.0, 0.0, ...</td>\n",
              "    </tr>\n",
              "    <tr>\n",
              "      <th>1</th>\n",
              "      <td>0.0</td>\n",
              "      <td>(1.0, 0.0, 0.0, 0.0, 0.0, 0.0, 0.0, 0.0, 0.0, ...</td>\n",
              "    </tr>\n",
              "    <tr>\n",
              "      <th>2</th>\n",
              "      <td>0.0</td>\n",
              "      <td>(1.0, 0.0, 0.0, 0.0, 0.0, 0.0, 0.0, 0.0, 0.0, ...</td>\n",
              "    </tr>\n",
              "    <tr>\n",
              "      <th>3</th>\n",
              "      <td>0.0</td>\n",
              "      <td>(1.0, 0.0, 0.0, 0.0, 0.0, 0.0, 0.0, 0.0, 0.0, ...</td>\n",
              "    </tr>\n",
              "    <tr>\n",
              "      <th>4</th>\n",
              "      <td>0.0</td>\n",
              "      <td>(1.0, 0.0, 0.0, 0.0, 0.0, 0.0, 0.0, 0.0, 0.0, ...</td>\n",
              "    </tr>\n",
              "  </tbody>\n",
              "</table>\n",
              "</div>\n",
              "      <button class=\"colab-df-convert\" onclick=\"convertToInteractive('df-211d24f9-6ee9-4ba2-b23c-afc738f48b57')\"\n",
              "              title=\"Convert this dataframe to an interactive table.\"\n",
              "              style=\"display:none;\">\n",
              "        \n",
              "  <svg xmlns=\"http://www.w3.org/2000/svg\" height=\"24px\"viewBox=\"0 0 24 24\"\n",
              "       width=\"24px\">\n",
              "    <path d=\"M0 0h24v24H0V0z\" fill=\"none\"/>\n",
              "    <path d=\"M18.56 5.44l.94 2.06.94-2.06 2.06-.94-2.06-.94-.94-2.06-.94 2.06-2.06.94zm-11 1L8.5 8.5l.94-2.06 2.06-.94-2.06-.94L8.5 2.5l-.94 2.06-2.06.94zm10 10l.94 2.06.94-2.06 2.06-.94-2.06-.94-.94-2.06-.94 2.06-2.06.94z\"/><path d=\"M17.41 7.96l-1.37-1.37c-.4-.4-.92-.59-1.43-.59-.52 0-1.04.2-1.43.59L10.3 9.45l-7.72 7.72c-.78.78-.78 2.05 0 2.83L4 21.41c.39.39.9.59 1.41.59.51 0 1.02-.2 1.41-.59l7.78-7.78 2.81-2.81c.8-.78.8-2.07 0-2.86zM5.41 20L4 18.59l7.72-7.72 1.47 1.35L5.41 20z\"/>\n",
              "  </svg>\n",
              "      </button>\n",
              "      \n",
              "  <style>\n",
              "    .colab-df-container {\n",
              "      display:flex;\n",
              "      flex-wrap:wrap;\n",
              "      gap: 12px;\n",
              "    }\n",
              "\n",
              "    .colab-df-convert {\n",
              "      background-color: #E8F0FE;\n",
              "      border: none;\n",
              "      border-radius: 50%;\n",
              "      cursor: pointer;\n",
              "      display: none;\n",
              "      fill: #1967D2;\n",
              "      height: 32px;\n",
              "      padding: 0 0 0 0;\n",
              "      width: 32px;\n",
              "    }\n",
              "\n",
              "    .colab-df-convert:hover {\n",
              "      background-color: #E2EBFA;\n",
              "      box-shadow: 0px 1px 2px rgba(60, 64, 67, 0.3), 0px 1px 3px 1px rgba(60, 64, 67, 0.15);\n",
              "      fill: #174EA6;\n",
              "    }\n",
              "\n",
              "    [theme=dark] .colab-df-convert {\n",
              "      background-color: #3B4455;\n",
              "      fill: #D2E3FC;\n",
              "    }\n",
              "\n",
              "    [theme=dark] .colab-df-convert:hover {\n",
              "      background-color: #434B5C;\n",
              "      box-shadow: 0px 1px 3px 1px rgba(0, 0, 0, 0.15);\n",
              "      filter: drop-shadow(0px 1px 2px rgba(0, 0, 0, 0.3));\n",
              "      fill: #FFFFFF;\n",
              "    }\n",
              "  </style>\n",
              "\n",
              "      <script>\n",
              "        const buttonEl =\n",
              "          document.querySelector('#df-211d24f9-6ee9-4ba2-b23c-afc738f48b57 button.colab-df-convert');\n",
              "        buttonEl.style.display =\n",
              "          google.colab.kernel.accessAllowed ? 'block' : 'none';\n",
              "\n",
              "        async function convertToInteractive(key) {\n",
              "          const element = document.querySelector('#df-211d24f9-6ee9-4ba2-b23c-afc738f48b57');\n",
              "          const dataTable =\n",
              "            await google.colab.kernel.invokeFunction('convertToInteractive',\n",
              "                                                     [key], {});\n",
              "          if (!dataTable) return;\n",
              "\n",
              "          const docLinkHtml = 'Like what you see? Visit the ' +\n",
              "            '<a target=\"_blank\" href=https://colab.research.google.com/notebooks/data_table.ipynb>data table notebook</a>'\n",
              "            + ' to learn more about interactive tables.';\n",
              "          element.innerHTML = '';\n",
              "          dataTable['output_type'] = 'display_data';\n",
              "          await google.colab.output.renderOutput(dataTable, element);\n",
              "          const docLink = document.createElement('div');\n",
              "          docLink.innerHTML = docLinkHtml;\n",
              "          element.appendChild(docLink);\n",
              "        }\n",
              "      </script>\n",
              "    </div>\n",
              "  </div>\n",
              "  "
            ],
            "text/plain": [
              "   label                                           features\n",
              "0    0.0  (1.0, 0.0, 0.0, 0.0, 0.0, 0.0, 0.0, 0.0, 0.0, ...\n",
              "1    0.0  (1.0, 0.0, 0.0, 0.0, 0.0, 0.0, 0.0, 0.0, 0.0, ...\n",
              "2    0.0  (1.0, 0.0, 0.0, 0.0, 0.0, 0.0, 0.0, 0.0, 0.0, ...\n",
              "3    0.0  (1.0, 0.0, 0.0, 0.0, 0.0, 0.0, 0.0, 0.0, 0.0, ...\n",
              "4    0.0  (1.0, 0.0, 0.0, 0.0, 0.0, 0.0, 0.0, 0.0, 0.0, ..."
            ]
          },
          "metadata": {},
          "execution_count": 79
        }
      ]
    },
    {
      "cell_type": "code",
      "source": [
        "ptrainset, ptestset = data_pyspark4.randomSplit([0.7, 0.3], seed = 2021)\n",
        "print(\"Training Dataset Count: \" + str(ptrainset.count()))\n",
        "print(\"Test Dataset Count: \" + str(ptestset.count()))"
      ],
      "metadata": {
        "colab": {
          "base_uri": "https://localhost:8080/"
        },
        "id": "JjtE9vu9-nZd",
        "outputId": "75a37cd3-39d5-4192-ed1f-6a29d7d2221a"
      },
      "execution_count": 80,
      "outputs": [
        {
          "output_type": "stream",
          "name": "stdout",
          "text": [
            "Training Dataset Count: 1777507\n",
            "Test Dataset Count: 762231\n"
          ]
        }
      ]
    },
    {
      "cell_type": "code",
      "source": [
        "from pyspark.ml.classification import LogisticRegression\n",
        "\n",
        "lr = LogisticRegression(featuresCol = 'features', labelCol = 'label', maxIter=10,  family=\"multinomial\")\n",
        "lrModel = lr.fit(ptrainset)"
      ],
      "metadata": {
        "id": "cPup3tfR_L_F"
      },
      "execution_count": 81,
      "outputs": []
    },
    {
      "cell_type": "markdown",
      "source": [
        "**SUMMARY:** Coefficients by using LogisticRegressionModel’s attributes."
      ],
      "metadata": {
        "id": "JS0b0UCP_L_F"
      }
    },
    {
      "cell_type": "code",
      "source": [
        "# Print the coefficients and intercept for multinomial logistic regression\n",
        "print(\"Coefficients: \\n\" + str(lrModel.coefficientMatrix))\n",
        "print(\"Intercept: \" + str(lrModel.interceptVector))\n",
        "\n",
        "trainingSummary = lrModel.summary"
      ],
      "metadata": {
        "colab": {
          "base_uri": "https://localhost:8080/"
        },
        "id": "bbFegYTHBMaC",
        "outputId": "91767a31-9308-4fba-fce8-f57a9e12882e"
      },
      "execution_count": 84,
      "outputs": [
        {
          "output_type": "stream",
          "name": "stdout",
          "text": [
            "Coefficients: \n",
            "DenseMatrix([[ 2.22517889e-01,  1.98128734e-01, -6.44119008e+00, ...,\n",
            "              -4.56727320e-03,  1.26482044e-02, -3.74998712e+00],\n",
            "             [ 1.47816329e-01,  6.74668927e-03, -1.95540003e+00, ...,\n",
            "               5.12185864e-02,  1.46688428e-02, -5.50274012e-01],\n",
            "             [-1.65331411e-01, -2.33137885e-01,  5.60599681e+00, ...,\n",
            "              -8.41511869e-03, -9.23749808e-03, -5.53657991e-01],\n",
            "             ...,\n",
            "             [-5.63726281e-02, -6.81088574e-02,  1.76970675e+00, ...,\n",
            "              -7.83135285e-04, -1.09295355e-03,  7.68129886e-01],\n",
            "             [-2.97908899e-02,  5.44835226e-02, -3.62891242e-01, ...,\n",
            "              -3.62077232e-03, -2.49767495e-03,  8.12242315e-01],\n",
            "             [ 8.92011836e-03, -7.37709574e-03, -2.41841361e-02, ...,\n",
            "              -4.83786858e-04, -3.34608380e-04,  1.13398395e-01]])\n",
            "Intercept: [-211.9128404212776,147.6970911044331,-127.4258335259381,219.29614120533043,-72.96305903813771,33.334152815600426,29.754109386161687,44.78027532173592,-50.39966794929552,-12.160368898612592]\n"
          ]
        }
      ]
    },
    {
      "cell_type": "code",
      "source": [
        "# Obtain the objective per iteration\n",
        "objectiveHistory = trainingSummary.objectiveHistory\n",
        "print(\"objectiveHistory: \\n\")\n",
        "for objective in objectiveHistory:\n",
        "    print(objective)"
      ],
      "metadata": {
        "colab": {
          "base_uri": "https://localhost:8080/"
        },
        "id": "MrR54aZ9BXAK",
        "outputId": "5bbaa168-ede0-4341-dabd-e0965973b127"
      },
      "execution_count": 86,
      "outputs": [
        {
          "output_type": "stream",
          "name": "stdout",
          "text": [
            "objectiveHistory: \n",
            "\n",
            "0.5220518803184283\n",
            "0.3398094616141382\n",
            "0.28832187413781013\n",
            "0.1863241650820322\n",
            "0.15276212928518276\n",
            "0.1056183281035335\n",
            "0.08263975504620606\n",
            "0.06893252945422775\n",
            "0.060116717243277516\n",
            "0.054667916128339065\n",
            "0.04862461267980795\n"
          ]
        }
      ]
    },
    {
      "cell_type": "code",
      "source": [
        "# for multiclass, we can inspect metrics on a per-label basis\n",
        "print(\"False positive rate by label:\")\n",
        "for i, rate in enumerate(trainingSummary.falsePositiveRateByLabel):\n",
        "    print(\"label %d: %s\" % (i, rate))"
      ],
      "metadata": {
        "colab": {
          "base_uri": "https://localhost:8080/"
        },
        "id": "P4FQjl3GRPe0",
        "outputId": "7ca4f885-1774-4d49-a328-c23c61dd7314"
      },
      "execution_count": 90,
      "outputs": [
        {
          "output_type": "stream",
          "name": "stdout",
          "text": [
            "False positive rate by label:\n",
            "label 0: 0.0023492351637790653\n",
            "label 1: 0.0013113798630336587\n",
            "label 2: 0.0040430333113650975\n",
            "label 3: 0.002764577508710663\n",
            "label 4: 0.0024664235725771746\n",
            "label 5: 0.0024142688493135342\n",
            "label 6: 2.1400601807449775e-05\n",
            "label 7: 0.0\n",
            "label 8: 1.3510044718248018e-05\n",
            "label 9: 0.0\n"
          ]
        }
      ]
    },
    {
      "cell_type": "code",
      "source": [
        "print(\"True positive rate by label:\")\n",
        "for i, rate in enumerate(trainingSummary.truePositiveRateByLabel):\n",
        "    print(\"label %d: %s\" % (i, rate))"
      ],
      "metadata": {
        "colab": {
          "base_uri": "https://localhost:8080/"
        },
        "id": "8D6nXBcARZKE",
        "outputId": "876baaf0-b320-41e3-ac49-60b62730bd39"
      },
      "execution_count": 91,
      "outputs": [
        {
          "output_type": "stream",
          "name": "stdout",
          "text": [
            "True positive rate by label:\n",
            "label 0: 0.9986887805079108\n",
            "label 1: 0.9747178359474353\n",
            "label 2: 0.9036268762481479\n",
            "label 3: 0.7315081370072264\n",
            "label 4: 0.767454114340915\n",
            "label 5: 0.7232548533663775\n",
            "label 6: 0.057112068965517244\n",
            "label 7: 0.0\n",
            "label 8: 0.0019029495718363464\n",
            "label 9: 0.0\n"
          ]
        }
      ]
    },
    {
      "cell_type": "code",
      "source": [
        "print(\"Precision by label:\")\n",
        "for i, prec in enumerate(trainingSummary.precisionByLabel):\n",
        "    print(\"label %d: %s\" % (i, prec))"
      ],
      "metadata": {
        "colab": {
          "base_uri": "https://localhost:8080/"
        },
        "id": "FazdMUhgRlls",
        "outputId": "1c04ddea-0c9e-4d74-f651-1dbf6d0615fb"
      },
      "execution_count": 92,
      "outputs": [
        {
          "output_type": "stream",
          "name": "stdout",
          "text": [
            "Precision by label:\n",
            "label 0: 0.9996596282340958\n",
            "label 1: 0.9857125632987702\n",
            "label 2: 0.7989178413783283\n",
            "label 3: 0.7189629287446587\n",
            "label 4: 0.6673539518900343\n",
            "label 5: 0.6213626685592619\n",
            "label 6: 0.7361111111111112\n",
            "label 7: 0.0\n",
            "label 8: 0.07692307692307693\n",
            "label 9: 0.0\n"
          ]
        }
      ]
    },
    {
      "cell_type": "code",
      "source": [
        "print(\"Recall by label:\")\n",
        "for i, rec in enumerate(trainingSummary.recallByLabel):\n",
        "    print(\"label %d: %s\" % (i, rec))"
      ],
      "metadata": {
        "colab": {
          "base_uri": "https://localhost:8080/"
        },
        "id": "F1P8ehshRq38",
        "outputId": "8023f892-346a-4322-b161-212980e31e39"
      },
      "execution_count": 93,
      "outputs": [
        {
          "output_type": "stream",
          "name": "stdout",
          "text": [
            "Recall by label:\n",
            "label 0: 0.9986887805079108\n",
            "label 1: 0.9747178359474353\n",
            "label 2: 0.9036268762481479\n",
            "label 3: 0.7315081370072264\n",
            "label 4: 0.767454114340915\n",
            "label 5: 0.7232548533663775\n",
            "label 6: 0.057112068965517244\n",
            "label 7: 0.0\n",
            "label 8: 0.0019029495718363464\n",
            "label 9: 0.0\n"
          ]
        }
      ]
    },
    {
      "cell_type": "code",
      "source": [
        "print(\"F-measure by label:\")\n",
        "for i, f in enumerate(trainingSummary.fMeasureByLabel()):\n",
        "    print(\"label %d: %s\" % (i, f))"
      ],
      "metadata": {
        "colab": {
          "base_uri": "https://localhost:8080/"
        },
        "id": "P6eNWyMpSLzT",
        "outputId": "8bdd9f30-d467-44bc-df04-8481d5cd1ca0"
      },
      "execution_count": 94,
      "outputs": [
        {
          "output_type": "stream",
          "name": "stdout",
          "text": [
            "F-measure by label:\n",
            "label 0: 0.9991739685399282\n",
            "label 1: 0.9801843686306899\n",
            "label 2: 0.8480524780459787\n",
            "label 3: 0.7251812807594863\n",
            "label 4: 0.7139122620700922\n",
            "label 5: 0.6684481771330406\n",
            "label 6: 0.106\n",
            "label 7: 0.0\n",
            "label 8: 0.003714020427112349\n",
            "label 9: 0.0\n"
          ]
        }
      ]
    },
    {
      "cell_type": "code",
      "source": [
        "accuracy = trainingSummary.accuracy\n",
        "falsePositiveRate = trainingSummary.weightedFalsePositiveRate\n",
        "truePositiveRate = trainingSummary.weightedTruePositiveRate\n",
        "fMeasure = trainingSummary.weightedFMeasure()\n",
        "precision = trainingSummary.weightedPrecision\n",
        "recall = trainingSummary.weightedRecall\n",
        "print(\"Accuracy: %s\\nFPR: %s\\nTPR: %s\\nF-measure: %s\\nPrecision: %s\\nRecall: %s\"\n",
        "      % (accuracy, falsePositiveRate, truePositiveRate, fMeasure, precision, recall))\n"
      ],
      "metadata": {
        "colab": {
          "base_uri": "https://localhost:8080/"
        },
        "outputId": "0822328a-40d4-4d08-d8ca-70d2595d9369",
        "id": "Nlc6ZAQY_L_G"
      },
      "execution_count": 95,
      "outputs": [
        {
          "output_type": "stream",
          "name": "stdout",
          "text": [
            "Accuracy: 0.9869058180924182\n",
            "FPR: 0.0022896470077230927\n",
            "TPR: 0.9869058180924183\n",
            "F-measure: 0.9861732475511524\n",
            "Precision: 0.9862957512393111\n",
            "Recall: 0.9869058180924183\n"
          ]
        }
      ]
    }
  ]
}